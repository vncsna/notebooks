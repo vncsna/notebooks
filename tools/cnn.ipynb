{
 "cells": [
  {
   "cell_type": "markdown",
   "metadata": {},
   "source": [
    "## How to create a CNN in {tool}?"
   ]
  },
  {
   "cell_type": "code",
   "execution_count": null,
   "metadata": {},
   "outputs": [],
   "source": [
    "import datetime\n",
    "\n",
    "import numpy as np\n",
    "import pandas as pd\n",
    "\n",
    "from sklearn.datasets import make_classification\n",
    "from sklearn.metrics import classification_report\n",
    "from sklearn.model_selection import train_test_split"
   ]
  },
  {
   "cell_type": "markdown",
   "metadata": {},
   "source": [
    "### Toy Dataset"
   ]
  },
  {
   "cell_type": "code",
   "execution_count": null,
   "metadata": {},
   "outputs": [],
   "source": [
    "train_df = pd.read_csv('fashion-mnist/fashion-mnist_train.csv')\n",
    "test_df = pd.read_csv('fashion-mnist/fashion-mnist_test.csv')"
   ]
  },
  {
   "cell_type": "code",
   "execution_count": null,
   "metadata": {},
   "outputs": [],
   "source": [
    "x_train = train_df.values[:, 1:] / 255\n",
    "y_train = train_df.values[:, 0]\n",
    "\n",
    "x_train, x_valid, y_train, y_valid = train_test_split(x_train, y_train, train_size=.8)\n",
    "x_train = x_train.reshape(-1, 1, 28, 28)\n",
    "x_valid = x_valid.reshape(-1, 1, 28, 28)\n",
    "\n",
    "x_test = test_df.values[:, 1:] / 255\n",
    "x_test = x_test.reshape(-1, 1, 28, 28)\n",
    "y_test = test_df.values[:, 0]"
   ]
  },
  {
   "cell_type": "markdown",
   "metadata": {
    "tags": []
   },
   "source": [
    "### PyTorch"
   ]
  },
  {
   "cell_type": "code",
   "execution_count": null,
   "metadata": {},
   "outputs": [],
   "source": [
    "import torch\n",
    "import pytorch_lightning as pl\n",
    "import torch.nn.functional as F\n",
    "\n",
    "from torch import nn\n",
    "from torch.utils.data import TensorDataset, DataLoader"
   ]
  },
  {
   "cell_type": "code",
   "execution_count": null,
   "metadata": {},
   "outputs": [],
   "source": [
    "train_ds = TensorDataset(torch.Tensor(x_train), torch.Tensor(y_train).long())\n",
    "train_dl = DataLoader(train_ds, batch_size=4)\n",
    "\n",
    "valid_ds = TensorDataset(torch.Tensor(x_valid), torch.Tensor(y_valid).long())\n",
    "valid_dl = DataLoader(valid_ds, batch_size=4)"
   ]
  },
  {
   "cell_type": "code",
   "execution_count": null,
   "metadata": {},
   "outputs": [],
   "source": [
    "class TorchNN(pl.LightningModule):\n",
    "    def __init__(self, lr: float = 1e-3):\n",
    "        super(TorchNN, self).__init__()\n",
    "        self.lr = lr\n",
    "        self.conv1 = nn.Conv2d(1, 10, kernel_size=5)\n",
    "        self.conv2 = nn.Conv2d(10, 20, kernel_size=5)\n",
    "        self.conv2_drop = nn.Dropout2d()\n",
    "        self.fc1 = nn.Linear(320, 50)\n",
    "        self.fc2 = nn.Linear(50, 10)\n",
    "    \n",
    "    def forward(self, x):\n",
    "        x = F.relu(F.max_pool2d(self.conv1(x), 2))\n",
    "        x = F.relu(F.max_pool2d(self.conv2_drop(self.conv2(x)), 2))\n",
    "        x = x.view(-1, 320)\n",
    "        x = F.relu(self.fc1(x))\n",
    "        x = F.dropout(x, training=self.training)\n",
    "        x = self.fc2(x)\n",
    "        return x\n",
    "    \n",
    "    def training_step(self, batch, batch_idx):\n",
    "        x, y = batch\n",
    "        y_hat = self(x)\n",
    "        loss = F.cross_entropy(y_hat, y)\n",
    "        self.log('train_loss', loss)\n",
    "        return loss\n",
    "    \n",
    "    def validation_step(self, batch, batch_idx):\n",
    "        x, y = batch\n",
    "        y_hat = self(x)\n",
    "        val_loss = F.cross_entropy(y_hat, y)\n",
    "        return val_loss\n",
    "    \n",
    "    def test_step(self, batch, batch_idx):\n",
    "        x, y = batch\n",
    "        y_hat = self(x)\n",
    "        loss = F.cross_entropy(y_hat, y)\n",
    "        return loss\n",
    "    \n",
    "    def configure_optimizers(self):\n",
    "        optimizer = torch.optim.Adam(self.parameters(), lr=self.lr)"
   ]
  },
  {
   "cell_type": "code",
   "execution_count": null,
   "metadata": {},
   "outputs": [],
   "source": [
    "nn_torch = TorchNN()\n",
    "trainer = pl.Trainer(max_epochs=4)"
   ]
  },
  {
   "cell_type": "code",
   "execution_count": null,
   "metadata": {},
   "outputs": [],
   "source": [
    "trainer.fit(nn_torch, train_dl, valid_dl)"
   ]
  },
  {
   "cell_type": "markdown",
   "metadata": {},
   "source": [
    "Verificamos o modelo em\n",
    "`tensorboard --logdir lightning_logs/`  \n",
    "Referências em [Next Jornal: PyTorch MNIST](https://nextjournal.com/gkoehler/pytorch-mnist)"
   ]
  },
  {
   "cell_type": "markdown",
   "metadata": {},
   "source": [
    "### TensorFlow"
   ]
  },
  {
   "cell_type": "code",
   "execution_count": null,
   "metadata": {},
   "outputs": [],
   "source": [
    "import tensorflow as tf"
   ]
  },
  {
   "cell_type": "code",
   "execution_count": null,
   "metadata": {},
   "outputs": [],
   "source": [
    "load_ext tensorboard"
   ]
  },
  {
   "cell_type": "code",
   "execution_count": null,
   "metadata": {},
   "outputs": [],
   "source": [
    "log_dir = \"tensorflow_logs/\" + datetime.datetime.now().strftime(\"%Y%m%d-%H%M%S\")\n",
    "tensorboard_callback = tf.keras.callbacks.TensorBoard(log_dir=log_dir, histogram_freq=1)"
   ]
  },
  {
   "cell_type": "code",
   "execution_count": null,
   "metadata": {},
   "outputs": [],
   "source": [
    "class FlowNN(tf.keras.Model):\n",
    "    def __init__(self):\n",
    "        super(FlowNN, self).__init__()\n",
    "        inputs = tf.keras.layers.Input(shape=[28, 28, 1])\n",
    "        #\n",
    "        conv1 = tf.keras.layers.Conv2D(10, 5, activation='relu')(inputs)\n",
    "        conv1_pool = tf.keras.layers.MaxPool2D()(conv1)\n",
    "        #\n",
    "        conv2 = tf.keras.layers.Conv2D(20, 5)(conv1_pool)\n",
    "        conv2_drop = tf.keras.layers.Dropout(rate=.5)(conv2)\n",
    "        conv2_pool = tf.keras.layers.MaxPool2D()(conv2_drop)\n",
    "        conv2_relu = tf.keras.layers.ReLU()(conv2_pool)\n",
    "        #\n",
    "        reshape = tf.keras.layers.Reshape((-1, 320))(conv2_relu)\n",
    "        #\n",
    "        fc1 = tf.keras.layers.Dense(50, activation='relu')(reshape)\n",
    "        fc1_drop = tf.keras.layers.Dropout(rate=.5)(fc1)\n",
    "        #\n",
    "        outputs = tf.keras.layers.Dense(10)(fc1_drop)\n",
    "        #\n",
    "        self.model = tf.keras.Model(inputs=[inputs], outputs=[outputs])\n",
    "    \n",
    "    def call(self, inputs):\n",
    "        return self.model(inputs)"
   ]
  },
  {
   "cell_type": "code",
   "execution_count": null,
   "metadata": {},
   "outputs": [],
   "source": [
    "flow_nn = FlowNN()"
   ]
  },
  {
   "cell_type": "code",
   "execution_count": null,
   "metadata": {},
   "outputs": [],
   "source": [
    "flow_nn.compile(\n",
    "    loss=tf.nn.sparse_softmax_cross_entropy_with_logits,\n",
    "    optimizer='Adam',\n",
    "    metrics=['accuracy']\n",
    ")"
   ]
  },
  {
   "cell_type": "code",
   "execution_count": null,
   "metadata": {},
   "outputs": [],
   "source": [
    "x_train_flow = np.transpose(x_train, (0, 2, 3, 1))\n",
    "x_valid_flow = np.transpose(x_valid, (0, 2, 3, 1))"
   ]
  },
  {
   "cell_type": "code",
   "execution_count": null,
   "metadata": {},
   "outputs": [],
   "source": [
    "flow_nn.fit(\n",
    "    x_train_flow,\n",
    "    y_train,\n",
    "    epochs=4,\n",
    "    validation_data=(x_valid_flow, y_valid),\n",
    "    callbacks=[tensorboard_callback]\n",
    ")"
   ]
  },
  {
   "cell_type": "markdown",
   "metadata": {
    "tags": []
   },
   "source": [
    "Verificamos o modelo em `tensorboard --logdir tensorflow_logs`"
   ]
  }
 ],
 "metadata": {
  "kernelspec": {
   "display_name": "Python 3",
   "language": "python",
   "name": "python3"
  },
  "language_info": {
   "codemirror_mode": {
    "name": "ipython",
    "version": 3
   },
   "file_extension": ".py",
   "mimetype": "text/x-python",
   "name": "python",
   "nbconvert_exporter": "python",
   "pygments_lexer": "ipython3",
   "version": "3.9.2"
  }
 },
 "nbformat": 4,
 "nbformat_minor": 4
}
