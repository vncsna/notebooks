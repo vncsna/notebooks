{
 "cells": [
  {
   "cell_type": "code",
   "execution_count": 1,
   "metadata": {},
   "outputs": [],
   "source": [
    "# TODO: Fix linear regression overflow error\n",
    "# TODO: Fix linear regression convergence error"
   ]
  },
  {
   "cell_type": "markdown",
   "metadata": {
    "id": "Rv37KXchFEL4"
   },
   "source": [
    "#### Libraries"
   ]
  },
  {
   "cell_type": "code",
   "execution_count": 2,
   "metadata": {
    "colab": {
     "base_uri": "https://localhost:8080/",
     "height": 34
    },
    "executionInfo": {
     "elapsed": 29010,
     "status": "ok",
     "timestamp": 1602857454063,
     "user": {
      "displayName": "Vinicius Aguiar",
      "photoUrl": "https://lh3.googleusercontent.com/a-/AOh14GiIkJJn8xW1Jifzc3Yu1R42MS1Ter43iIMGz9IS=s64",
      "userId": "17869074096365757693"
     },
     "user_tz": 240
    },
    "id": "kTmzcxZ8FSgI",
    "outputId": "c4dba2fe-ab81-4b57-f03b-86c5e1e4f997"
   },
   "outputs": [],
   "source": [
    "import numpy as np\n",
    "from IPython.display import clear_output\n",
    "from sklearn.datasets import load_boston\n",
    "from sklearn.datasets import load_digits\n",
    "from sklearn.model_selection import train_test_split\n",
    "from sklearn.preprocessing import StandardScaler\n",
    "from sklearn.metrics import mean_squared_error\n",
    "from sklearn.metrics import classification_report"
   ]
  },
  {
   "cell_type": "markdown",
   "metadata": {},
   "source": [
    "#### Auxiliar Function"
   ]
  },
  {
   "cell_type": "code",
   "execution_count": 3,
   "metadata": {},
   "outputs": [],
   "source": [
    "def add_bias(x):\n",
    "  return np.hstack((np.ones((x.shape[0], 1)), x))"
   ]
  },
  {
   "cell_type": "markdown",
   "metadata": {
    "id": "UfBgx2IcFI0L"
   },
   "source": [
    "#### Linear Regression"
   ]
  },
  {
   "cell_type": "markdown",
   "metadata": {},
   "source": [
    "##### Training with Gradient Descent"
   ]
  },
  {
   "cell_type": "code",
   "execution_count": 4,
   "metadata": {
    "id": "PkkC0h0Fb2QS"
   },
   "outputs": [],
   "source": [
    "def fit_linear(x, y, alpha=.01, min_cost=10**-4, max_iter=10**2):\n",
    "  i = 0\n",
    "  m, n = x.shape\n",
    "  cost = [min_cost + 100]\n",
    "  theta = np.random.rand(n, 1)\n",
    "  while i < max_iter and cost[-1] > min_cost:\n",
    "    i += 1\n",
    "    h = np.dot(x, theta)\n",
    "    # BEGIN ERROR !!!!!!!!!!!!!!!!!!!!!!!\n",
    "    theta = theta - (alpha / m) * np.sum((h - y) * x)\n",
    "    cost.append(np.sum(np.square(h - y)) / (2 * m))\n",
    "    # END ERROR !!!!!!!!!!!!!!!!!!!!!!!!!\n",
    "  return theta, cost[1:]"
   ]
  },
  {
   "cell_type": "markdown",
   "metadata": {
    "id": "raK8ljl2BwyC"
   },
   "source": [
    "##### Training with Normal Equations"
   ]
  },
  {
   "cell_type": "code",
   "execution_count": 5,
   "metadata": {
    "colab": {
     "base_uri": "https://localhost:8080/",
     "height": 414
    },
    "executionInfo": {
     "elapsed": 1067,
     "status": "ok",
     "timestamp": 1602857800180,
     "user": {
      "displayName": "Vinicius Aguiar",
      "photoUrl": "https://lh3.googleusercontent.com/a-/AOh14GiIkJJn8xW1Jifzc3Yu1R42MS1Ter43iIMGz9IS=s64",
      "userId": "17869074096365757693"
     },
     "user_tz": 240
    },
    "id": "pdkWhJtq_z0h",
    "outputId": "9f11feb9-fd3a-40fd-e0e6-ab9b05cdf00e"
   },
   "outputs": [],
   "source": [
    "def fit_linear_wne(x, y):\n",
    "  # calculate the coefficient theta = (x^(t)x)^(-1)x^(t)y\n",
    "  theta = np.dot(np.linalg.pinv(np.dot(x.T, x)), np.dot(x.T, y))\n",
    "  cost = mean_squared_error(y, np.dot(x, theta))\n",
    "  return theta, cost"
   ]
  },
  {
   "cell_type": "markdown",
   "metadata": {},
   "source": [
    "##### Execution"
   ]
  },
  {
   "cell_type": "code",
   "execution_count": 6,
   "metadata": {},
   "outputs": [],
   "source": [
    "boston = load_boston()\n",
    "scaler = StandardScaler()\n",
    "\n",
    "x_train, x_test, y_train, y_test = train_test_split(\n",
    "  boston.data, boston.target.reshape((-1, 1)), test_size=.2)\n",
    "\n",
    "x_train = add_bias(scaler.fit_transform(x_train))\n",
    "x_test  = add_bias(scaler.transform(x_test))"
   ]
  },
  {
   "cell_type": "code",
   "execution_count": 7,
   "metadata": {},
   "outputs": [
    {
     "name": "stdout",
     "output_type": "stream",
     "text": [
      "linear regression with gradient descent MSE: 276534793281.868\n"
     ]
    }
   ],
   "source": [
    "theta, cost = fit_linear(x_train, y_train, alpha=.1)\n",
    "error = mean_squared_error(y_test, np.dot(x_test, theta))\n",
    "print(f'linear regression with gradient descent MSE: {error:.3f}')"
   ]
  },
  {
   "cell_type": "code",
   "execution_count": 8,
   "metadata": {},
   "outputs": [
    {
     "name": "stdout",
     "output_type": "stream",
     "text": [
      "linear regression with normal equations MSE: 17.986\n"
     ]
    }
   ],
   "source": [
    "theta, cost = fit_linear_wne(x_train, y_train)\n",
    "error = mean_squared_error(y_test, np.dot(x_test, theta))\n",
    "print(f'linear regression with normal equations MSE: {error:.3f}')"
   ]
  },
  {
   "cell_type": "markdown",
   "metadata": {
    "id": "BsvZmkcSFKYr"
   },
   "source": [
    "#### Logistic Regression"
   ]
  },
  {
   "cell_type": "markdown",
   "metadata": {
    "id": "YxYvDNAAbdy0"
   },
   "source": [
    "##### Training with (Regularized) Gradient Descent"
   ]
  },
  {
   "cell_type": "code",
   "execution_count": 9,
   "metadata": {},
   "outputs": [],
   "source": [
    "def sigmoid(x):\n",
    "  return 1 / (1 + np.exp(-x))"
   ]
  },
  {
   "cell_type": "code",
   "execution_count": 10,
   "metadata": {
    "executionInfo": {
     "elapsed": 708,
     "status": "ok",
     "timestamp": 1602874805936,
     "user": {
      "displayName": "Vinicius Aguiar",
      "photoUrl": "https://lh3.googleusercontent.com/a-/AOh14GiIkJJn8xW1Jifzc3Yu1R42MS1Ter43iIMGz9IS=s64",
      "userId": "17869074096365757693"
     },
     "user_tz": 240
    },
    "id": "lykEtv891mpz"
   },
   "outputs": [],
   "source": [
    "def fit_logistic(x, y, lambd=1, alpha=.01, min_cost=10**-4, max_iter=10**4):\n",
    "  i = 0\n",
    "  m, n = x.shape\n",
    "  epsilon = 10 ** -8\n",
    "  cost = [min_cost + 100]\n",
    "  theta = np.random.rand(n, 1)\n",
    "  while cost[-1] > min_cost and i < max_iter:\n",
    "    i += 1\n",
    "    theta_aux = theta\n",
    "    theta_aux[0] = 0\n",
    "    h = sigmoid(np.dot(x, theta))\n",
    "    grad = np.dot(x.T, h - y) / m\n",
    "    grad += (lambd / m) * theta\n",
    "    theta -= alpha * grad\n",
    "    cost_i = y * np.log(h + epsilon)\n",
    "    cost_i += (1 - y) * np.log(1 - h + epsilon)\n",
    "    cost_i += (lambd / (2 * m)) * np.dot(theta_aux.T, theta_aux)\n",
    "    cost.append(- np.mean(cost_i))\n",
    "  return theta, cost[1:]"
   ]
  },
  {
   "cell_type": "code",
   "execution_count": 11,
   "metadata": {},
   "outputs": [],
   "source": [
    "def fit_logistic_ova(x, y, lambd=1, alpha=.01, min_cost=10**-8, max_iter=10**4):\n",
    "  cost = []\n",
    "  labels = np.unique(y)\n",
    "  theta = np.random.rand(x.shape[1], labels.shape[0])\n",
    "  for i, label in enumerate(labels):\n",
    "    yi = (y == label).astype(float)\n",
    "    theta_i, cost_i = fit_logistic(x, yi, \n",
    "                                   lambd=lambd,\n",
    "                                   alpha=alpha, \n",
    "                                   min_cost=min_cost, \n",
    "                                   max_iter=max_iter)\n",
    "    cost.append(cost_i)\n",
    "    theta[:, i] = theta_i.ravel()\n",
    "  return theta, cost"
   ]
  },
  {
   "cell_type": "markdown",
   "metadata": {},
   "source": [
    "##### Execution"
   ]
  },
  {
   "cell_type": "code",
   "execution_count": 13,
   "metadata": {},
   "outputs": [],
   "source": [
    "digits = load_digits()\n",
    "scaler = StandardScaler()\n",
    "\n",
    "x_train, x_test, y_train, y_test = train_test_split(\n",
    "  digits.data, digits.target.reshape((-1, 1)), test_size=.2)\n",
    "\n",
    "x_train = add_bias(scaler.fit_transform(x_train))\n",
    "x_test  = add_bias(scaler.transform(x_test))"
   ]
  },
  {
   "cell_type": "code",
   "execution_count": 16,
   "metadata": {},
   "outputs": [
    {
     "name": "stdout",
     "output_type": "stream",
     "text": [
      "\t\ttraining classification report\n",
      "              precision    recall  f1-score   support\n",
      "\n",
      "           0       0.90      1.00      0.95       146\n",
      "           1       0.95      0.90      0.92       143\n",
      "           2       0.89      0.97      0.93       137\n",
      "           3       0.94      0.91      0.92       144\n",
      "           4       0.99      0.95      0.97       147\n",
      "           5       0.91      0.98      0.94       148\n",
      "           6       0.97      0.97      0.97       143\n",
      "           7       0.95      0.98      0.96       142\n",
      "           8       0.91      0.80      0.85       142\n",
      "           9       0.90      0.84      0.87       145\n",
      "\n",
      "    accuracy                           0.93      1437\n",
      "   macro avg       0.93      0.93      0.93      1437\n",
      "weighted avg       0.93      0.93      0.93      1437\n",
      "\n"
     ]
    }
   ],
   "source": [
    "theta, cost = fit_logistic_ova(x_train, y_train)\n",
    "y_pred = np.argmax(sigmoid(np.dot(x_train, theta)), axis=1)\n",
    "print('\\t\\ttraining classification report')\n",
    "print(classification_report(y_train, y_pred))"
   ]
  },
  {
   "cell_type": "code",
   "execution_count": 15,
   "metadata": {},
   "outputs": [
    {
     "name": "stdout",
     "output_type": "stream",
     "text": [
      "\t\ttesting classification report\n",
      "              precision    recall  f1-score   support\n",
      "\n",
      "           0       0.80      1.00      0.89        32\n",
      "           1       0.89      0.87      0.88        39\n",
      "           2       0.95      0.90      0.92        40\n",
      "           3       0.93      0.97      0.95        39\n",
      "           4       0.89      0.94      0.91        34\n",
      "           5       0.88      0.88      0.88        34\n",
      "           6       0.90      0.92      0.91        38\n",
      "           7       0.85      0.95      0.90        37\n",
      "           8       0.93      0.78      0.85        32\n",
      "           9       0.92      0.69      0.79        35\n",
      "\n",
      "    accuracy                           0.89       360\n",
      "   macro avg       0.89      0.89      0.89       360\n",
      "weighted avg       0.90      0.89      0.89       360\n",
      "\n"
     ]
    }
   ],
   "source": [
    "y_pred = np.argmax(sigmoid(np.dot(x_test, theta)), axis=1)\n",
    "print('\\t\\ttesting classification report')\n",
    "print(classification_report(y_test, y_pred))"
   ]
  },
  {
   "cell_type": "markdown",
   "metadata": {
    "id": "eeqccRhvcW-l"
   },
   "source": [
    "#### References"
   ]
  },
  {
   "cell_type": "markdown",
   "metadata": {
    "id": "Gvae4bpacYsl"
   },
   "source": [
    "[1] LeCun, Y., 1998. The MNIST database of handwritten digits. http://yann.lecun.com/exdb/mnist/.\n",
    "\n",
    "[2] Ng, A., 2017. Machine learning course. Coursera [online]. Available at: https://www.coursera.org/learn/machinelearning."
   ]
  }
 ],
 "metadata": {
  "colab": {
   "collapsed_sections": [
    "UfBgx2IcFI0L"
   ],
   "name": "projeto1v2.ipynb",
   "provenance": []
  },
  "kernelspec": {
   "display_name": "Python 3",
   "language": "python",
   "name": "python3"
  },
  "language_info": {
   "codemirror_mode": {
    "name": "ipython",
    "version": 3
   },
   "file_extension": ".py",
   "mimetype": "text/x-python",
   "name": "python",
   "nbconvert_exporter": "python",
   "pygments_lexer": "ipython3",
   "version": "3.8.5"
  }
 },
 "nbformat": 4,
 "nbformat_minor": 4
}
