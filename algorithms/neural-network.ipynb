{
 "cells": [
  {
   "cell_type": "code",
   "execution_count": null,
   "metadata": {},
   "outputs": [],
   "source": [
    "# TODO: Fix gradient descent with regularization"
   ]
  },
  {
   "cell_type": "markdown",
   "metadata": {
    "id": "Rv37KXchFEL4"
   },
   "source": [
    "#### Libraries"
   ]
  },
  {
   "cell_type": "code",
   "execution_count": 2,
   "metadata": {
    "executionInfo": {
     "elapsed": 1034,
     "status": "ok",
     "timestamp": 1605879332911,
     "user": {
      "displayName": "Vinicius Aguiar",
      "photoUrl": "https://lh3.googleusercontent.com/a-/AOh14GiIkJJn8xW1Jifzc3Yu1R42MS1Ter43iIMGz9IS=s64",
      "userId": "17869074096365757693"
     },
     "user_tz": 240
    },
    "id": "kTmzcxZ8FSgI"
   },
   "outputs": [],
   "source": [
    "from pathlib import Path\n",
    "from random import shuffle\n",
    "\n",
    "import numpy as np\n",
    "import matplotlib.pyplot as plt\n",
    "from scipy.optimize import minimize\n",
    "from sklearn.datasets import load_digits\n",
    "from sklearn.model_selection import train_test_split\n",
    "from IPython.display import clear_output"
   ]
  },
  {
   "cell_type": "markdown",
   "metadata": {},
   "source": [
    "#### Data Loader"
   ]
  },
  {
   "cell_type": "code",
   "execution_count": 3,
   "metadata": {},
   "outputs": [],
   "source": [
    "class DataLoader():\n",
    "  def __init__(self, ds, batch_size):\n",
    "    self.x = ds[0]\n",
    "    self.y = ds[1]\n",
    "    self.size = ds[0].shape[0]\n",
    "    self.batch_size = batch_size\n",
    "\n",
    "  def __iter__(self):\n",
    "    rnd = [*range(self.size)]\n",
    "    i = - self.batch_size\n",
    "    shuffle(rnd)\n",
    "    while i + self.batch_size < self.size:\n",
    "      i += self.batch_size\n",
    "      index = rnd[i:i + self.batch_size]\n",
    "      yield self.x[index], self.y[index]"
   ]
  },
  {
   "cell_type": "code",
   "execution_count": 4,
   "metadata": {},
   "outputs": [],
   "source": [
    "digits = load_digits()\n",
    "\n",
    "x = digits.data / 16\n",
    "y = np.zeros((digits.target.size, digits.target.max() + 1))\n",
    "y[np.arange(digits.target.size), digits.target] = 1\n",
    "\n",
    "x_train, x_test, y_train, y_test = train_test_split(\n",
    "  x, y, test_size=.1)\n",
    "x_train, x_valid, y_train, y_valid = train_test_split(\n",
    "  x_train, y_train, test_size=.1)\n",
    "\n",
    "train_dl = DataLoader((x_train, y_train), batch_size=4)\n",
    "valid_dl = DataLoader((x_valid, y_valid), batch_size=4)\n",
    "test_dl  = DataLoader((x_test , y_test),  batch_size=4)"
   ]
  },
  {
   "cell_type": "markdown",
   "metadata": {
    "id": "UfBgx2IcFI0L"
   },
   "source": [
    "#### Neural Network"
   ]
  },
  {
   "cell_type": "code",
   "execution_count": 5,
   "metadata": {
    "executionInfo": {
     "elapsed": 2879,
     "status": "ok",
     "timestamp": 1605879334779,
     "user": {
      "displayName": "Vinicius Aguiar",
      "photoUrl": "https://lh3.googleusercontent.com/a-/AOh14GiIkJJn8xW1Jifzc3Yu1R42MS1Ter43iIMGz9IS=s64",
      "userId": "17869074096365757693"
     },
     "user_tz": 240
    },
    "id": "tz9rziLWh23d"
   },
   "outputs": [],
   "source": [
    "class Dense():\n",
    "  '''Dense layer.'''\n",
    "  def __init__(self, output_size):\n",
    "    self.input = None\n",
    "    self.weight = None\n",
    "    self.gradient = None\n",
    "    self.input_size = None\n",
    "    self.output_size = output_size\n",
    "\n",
    "  def init_weight(self, input_size):\n",
    "    '''Xavier et al. matrix initialization.'''\n",
    "    self.input_size = input_size + 1\n",
    "    shape = (self.input_size, self.output_size)\n",
    "    std = np.sqrt(2 / (self.input_size + self.output_size))\n",
    "    self.weight = np.random.normal(0, std, shape)\n",
    "\n",
    "  def __call__(self, x, phase):\n",
    "    self.input = x if phase == 'train' else None\n",
    "    bias = np.ones((x.shape[0], 1))\n",
    "    x = np.hstack((bias, x))\n",
    "    return np.dot(x, self.weight)\n",
    "  \n",
    "  def backpropagate(self, error, lambd=10**-3):\n",
    "    bias = np.mean(error, axis=0)\n",
    "    self.gradient  = np.dot(self.input.T, error) / self.input.shape[0]\n",
    "    self.gradient += self.weight[1:, :] * (lambd / self.input.shape[0])\n",
    "    self.gradient = np.vstack((bias, self.gradient))\n",
    "    return np.dot(error, self.weight[1:].T)"
   ]
  },
  {
   "cell_type": "code",
   "execution_count": 6,
   "metadata": {
    "executionInfo": {
     "elapsed": 2878,
     "status": "ok",
     "timestamp": 1605879334779,
     "user": {
      "displayName": "Vinicius Aguiar",
      "photoUrl": "https://lh3.googleusercontent.com/a-/AOh14GiIkJJn8xW1Jifzc3Yu1R42MS1Ter43iIMGz9IS=s64",
      "userId": "17869074096365757693"
     },
     "user_tz": 240
    },
    "id": "3brnT0sDr9dy"
   },
   "outputs": [],
   "source": [
    "class Sigmoid():\n",
    "  '''Sigmoid layer.'''\n",
    "  def __init__(self):\n",
    "    self.input = None\n",
    "\n",
    "  def __call__(self, x, phase):\n",
    "    self.input = x if phase == 'train' else None\n",
    "    return 1 / (1 + np.exp(-x))\n",
    "\n",
    "  def backpropagate(self, error, lambd=10**-3):\n",
    "    z = self(self.input, 'valid')\n",
    "    return error * (z * (1 - z))"
   ]
  },
  {
   "cell_type": "code",
   "execution_count": 7,
   "metadata": {
    "executionInfo": {
     "elapsed": 2877,
     "status": "ok",
     "timestamp": 1605879334780,
     "user": {
      "displayName": "Vinicius Aguiar",
      "photoUrl": "https://lh3.googleusercontent.com/a-/AOh14GiIkJJn8xW1Jifzc3Yu1R42MS1Ter43iIMGz9IS=s64",
      "userId": "17869074096365757693"
     },
     "user_tz": 240
    },
    "id": "J0dgJ6VZr94H"
   },
   "outputs": [],
   "source": [
    "class BinaryCrossEntropy():\n",
    "  '''Binary cross entropy cost function.'''\n",
    "  def __init__(self, lambd):\n",
    "    self.lambd = lambd\n",
    "  \n",
    "  def __call__(self, y, yh, layers=[]):\n",
    "    cost  = - y * np.log(yh + 10**-8)\n",
    "    cost += - (1 - y) * np.log(1 - yh + 10**-8)\n",
    "    cost = np.sum(cost) / y.shape[0]\n",
    "    reg = 0\n",
    "    for layer in layers:\n",
    "      if hasattr(layer, 'weight'):\n",
    "        reg += np.sum(layer.weight ** 2)\n",
    "    reg = (self.lambd * reg) / (2 * y.shape[0])\n",
    "    return cost + reg\n",
    "  \n",
    "  def accuracy(self, y, yh):\n",
    "    y  = np.argmax(y , axis=1)\n",
    "    yh = np.argmax(yh, axis=1)\n",
    "    return np.mean(y == yh)\n",
    "  \n",
    "  def backpropagate(self, y, yh):\n",
    "    return (yh - y) / (yh - yh * yh)"
   ]
  },
  {
   "cell_type": "code",
   "execution_count": 8,
   "metadata": {
    "executionInfo": {
     "elapsed": 2875,
     "status": "ok",
     "timestamp": 1605879334780,
     "user": {
      "displayName": "Vinicius Aguiar",
      "photoUrl": "https://lh3.googleusercontent.com/a-/AOh14GiIkJJn8xW1Jifzc3Yu1R42MS1Ter43iIMGz9IS=s64",
      "userId": "17869074096365757693"
     },
     "user_tz": 240
    },
    "id": "FjTtzSh61Dsq"
   },
   "outputs": [],
   "source": [
    "class GradientDescent():\n",
    "  '''Gradient descent optimizer.'''\n",
    "  def __init__(self, alpha=3*10**-1):\n",
    "    self.alpha = alpha\n",
    "  \n",
    "  def step(self, layers):\n",
    "    for layer in layers:\n",
    "      if hasattr(layer, 'weight'):\n",
    "        layer.weight -= self.alpha * layer.gradient"
   ]
  },
  {
   "cell_type": "code",
   "execution_count": 9,
   "metadata": {
    "executionInfo": {
     "elapsed": 2875,
     "status": "ok",
     "timestamp": 1605879334781,
     "user": {
      "displayName": "Vinicius Aguiar",
      "photoUrl": "https://lh3.googleusercontent.com/a-/AOh14GiIkJJn8xW1Jifzc3Yu1R42MS1Ter43iIMGz9IS=s64",
      "userId": "17869074096365757693"
     },
     "user_tz": 240
    },
    "id": "TRVlYzZGsAOh"
   },
   "outputs": [],
   "source": [
    "class NeuralNetwork():\n",
    "  '''Neural network.'''\n",
    "  def __init__(self, input_size, layers):\n",
    "    self.layers = layers\n",
    "    for layer in self.layers:\n",
    "      if hasattr(layer, 'weight'):\n",
    "        layer.init_weight(input_size)\n",
    "        input_size = layer.output_size\n",
    "\n",
    "  def predict(self, x, phase='valid'):\n",
    "    for layer in self.layers:\n",
    "      x = layer(x, phase)\n",
    "    return x\n",
    "  \n",
    "  def backpropagate(self, error, lambd=10**-3):\n",
    "    for layer in self.layers[::-1]:\n",
    "      error = layer.backpropagate(error, lambd=lambd)\n",
    "  \n",
    "  def train(self, train_dl, cost_fun, optimizer, \n",
    "            valid_dl=None, epochs=20, verbose=True):\n",
    "    history = {}\n",
    "    acc, cost = self.test(train_dl, cost_fun, verbose=False)\n",
    "    history['train_acc']  = [acc]\n",
    "    history['train_cost'] = [cost]\n",
    "    acc, cost = self.test(valid_dl, cost_fun, verbose=False)\n",
    "    history['valid_acc']  = [acc]\n",
    "    history['valid_cost'] = [cost]\n",
    "    for epoch in range(epochs):\n",
    "      if verbose:\n",
    "        print(f'epoch {epoch + 1}')\n",
    "        print(f'lambda {cost_fun.lambd}')\n",
    "      for phase, dataloader in [('train', train_dl), ('valid', valid_dl)]:\n",
    "        if not dataloader:\n",
    "          continue\n",
    "        acc = 0\n",
    "        cost = 0\n",
    "        for x, y in dataloader:\n",
    "          yh = self.predict(x, phase=phase)\n",
    "          acc  += cost_fun.accuracy(y, yh) * dataloader.batch_size\n",
    "          cost += cost_fun(y, yh) * dataloader.batch_size       \n",
    "          if phase == 'train':\n",
    "            error = cost_fun.backpropagate(y, yh)\n",
    "            self.backpropagate(error, lambd=cost_fun.lambd)\n",
    "            optimizer.step(self.layers)\n",
    "        acc  = acc / dataloader.size\n",
    "        cost = cost / dataloader.size\n",
    "        history[f'{phase}_acc'].append(acc)\n",
    "        history[f'{phase}_cost'].append(cost)\n",
    "        if verbose:\n",
    "          print(f'{phase}_acc : {acc:.3f}')\n",
    "          print(f'{phase}_cost: {cost:.3f}')\n",
    "      if verbose:\n",
    "        clear_output(wait=True)\n",
    "    return history\n",
    "  \n",
    "  def test(self, dataloader, cost_fun, verbose=True):\n",
    "    acc = 0\n",
    "    cost = 0\n",
    "    for x, y in dataloader:\n",
    "      yh = self.predict(x)\n",
    "      acc  += cost_fun.accuracy(y, yh) * dataloader.batch_size\n",
    "      cost += cost_fun(y, yh) * dataloader.batch_size\n",
    "    acc = acc / dataloader.size\n",
    "    cost = cost / dataloader.size\n",
    "    if verbose:\n",
    "      print(f'test_acc: {acc:5.3f}')\n",
    "      print(f'test_cost: {cost:.3f}')\n",
    "    return acc, cost"
   ]
  },
  {
   "cell_type": "code",
   "execution_count": 10,
   "metadata": {},
   "outputs": [
    {
     "name": "stdout",
     "output_type": "stream",
     "text": [
      "epoch 42\n",
      "lambda 0\n",
      "train_acc : 0.832\n",
      "train_cost: 2.049\n",
      "valid_acc : 0.864\n",
      "valid_cost: 2.046\n"
     ]
    }
   ],
   "source": [
    "nn = NeuralNetwork(64, \n",
    "                   [Dense(25), \n",
    "                    Sigmoid(), \n",
    "                    Dense(10), \n",
    "                    Sigmoid()])\n",
    "\n",
    "history = nn.train(train_dl, \n",
    "                   BinaryCrossEntropy(lambd=0), \n",
    "                   GradientDescent(alpha=3*10**-3), \n",
    "                   valid_dl,\n",
    "                   epochs=42)"
   ]
  },
  {
   "cell_type": "code",
   "execution_count": 11,
   "metadata": {},
   "outputs": [
    {
     "data": {
      "image/png": "[encoded data removed]",
      "text/plain": [
       "<Figure size 432x288 with 1 Axes>"
      ]
     },
     "metadata": {
      "needs_background": "light"
     },
     "output_type": "display_data"
    }
   ],
   "source": [
    "fig, ax = plt.subplots()\n",
    "ax.scatter(range(43), history['train_acc'], s=4, label='Train')\n",
    "ax.scatter(range(43), history['valid_acc'], s=4, label='Validation')\n",
    "ax.legend()\n",
    "plt.xlim(0, 20)\n",
    "plt.xlabel('Epoch')\n",
    "plt.ylabel('Accuracy');"
   ]
  },
  {
   "cell_type": "code",
   "execution_count": 12,
   "metadata": {},
   "outputs": [
    {
     "name": "stdout",
     "output_type": "stream",
     "text": [
      "test_acc: 0.872\n",
      "test_cost: 2.002\n"
     ]
    }
   ],
   "source": [
    "nn.test(test_dl, BinaryCrossEntropy(lambd=0));"
   ]
  },
  {
   "cell_type": "markdown",
   "metadata": {
    "id": "HS8BMNarWtR_"
   },
   "source": [
    "##### Gradient Checking\n"
   ]
  },
  {
   "cell_type": "code",
   "execution_count": 13,
   "metadata": {
    "executionInfo": {
     "elapsed": 8893,
     "status": "ok",
     "timestamp": 1605879340810,
     "user": {
      "displayName": "Vinicius Aguiar",
      "photoUrl": "https://lh3.googleusercontent.com/a-/AOh14GiIkJJn8xW1Jifzc3Yu1R42MS1Ter43iIMGz9IS=s64",
      "userId": "17869074096365757693"
     },
     "user_tz": 240
    },
    "id": "wn6dtMDB7cZV"
   },
   "outputs": [],
   "source": [
    "class NNDebugger():\n",
    "  def __init__(self, nn):\n",
    "    self.nn = nn\n",
    "\n",
    "  def get_weights(self):\n",
    "    weights = np.array([])\n",
    "    for layer in self.nn.layers:\n",
    "      if hasattr(layer, 'weight'):\n",
    "        new_weight = layer.weight.flatten()\n",
    "        weights = np.hstack((weights, new_weight))\n",
    "    return weights\n",
    "\n",
    "  def set_weights(self, weights):\n",
    "    for layer in self.nn.layers:\n",
    "      if hasattr(layer, 'weight'):\n",
    "        size = layer.weight.size\n",
    "        shape = layer.weight.shape\n",
    "        layer.weight = weights[:size].reshape(shape)\n",
    "        weights = weights[size:]\n",
    "\n",
    "  def get_grads(self):\n",
    "    grads = np.array([])\n",
    "    for layer in self.nn.layers:\n",
    "      if hasattr(layer, 'gradient') and np.all(layer.gradient):\n",
    "        new_grad = layer.gradient.flatten()\n",
    "        grads = np.hstack((grads, new_grad))\n",
    "    return grads\n",
    "  \n",
    "  def check_gradient(self, x, y, cost_fun, epsilon=10**-4):\n",
    "    yh = self.nn.predict(x, 'train')\n",
    "    error = cost_fun.backpropagate(y, yh)\n",
    "    self.nn.backpropagate(error, lambd=cost_fun.lambd)\n",
    "    weights = self.get_weights()\n",
    "    pertb = np.zeros_like(weights)\n",
    "    grads = self.get_grads()\n",
    "    num_grads = np.zeros_like(grads)\n",
    "    for i in range(weights.size):\n",
    "      pertb[i] = epsilon\n",
    "      self.set_weights(weights + pertb)\n",
    "      cost0 = cost_fun(y, self.nn.predict(x, 'valid'))\n",
    "      self.set_weights(weights - pertb)\n",
    "      cost1 = cost_fun(y, self.nn.predict(x, 'valid'))\n",
    "      num_grads[i] = (cost0 - cost1) / (2 * epsilon)\n",
    "      pertb[i] = 0\n",
    "    return grads, num_grads\n",
    "\n",
    "  def optimize(self, dataloader, cost_fun, filename):\n",
    "    def cost(weights):\n",
    "      print(weights[0])\n",
    "      clear_output(wait=False)\n",
    "      self.set_weights(weights)\n",
    "      return self.nn.test(dataloader, cost_fun, False)[1]\n",
    "    res = minimize(cost, \n",
    "                   self.get_weights(), \n",
    "                   method='CG',\n",
    "                   options={\n",
    "                       'maxiter': 20, \n",
    "                       'disp': True, \n",
    "                       'return_all': True})\n",
    "    np.savez_compressed(f'./{filename}', dict(res))"
   ]
  },
  {
   "cell_type": "code",
   "execution_count": 14,
   "metadata": {},
   "outputs": [
    {
     "name": "stdout",
     "output_type": "stream",
     "text": [
      "Gradient checking with regularization 0\n",
      "Difference from numerical approximation:\n",
      "[ 3.44855096e-09  6.43872011e-10  4.03334342e-09  4.94660053e-10\n",
      " -2.74771293e-09  1.85070308e-09  2.94211931e-10  2.02623038e-09\n",
      "  2.12613453e-10 -1.51683433e-09  2.23054553e-09  4.03126891e-10\n",
      "  2.64913603e-09  3.22561672e-10 -1.76756687e-09  1.91378347e-09\n",
      "  1.23580596e-10  2.39745757e-09  1.02989099e-10 -1.55329413e-09\n",
      " -8.30653568e-09  5.63261479e-09  1.90351483e-08 -5.11282183e-09\n",
      "  3.21201882e-09  1.15260878e-08 -2.63814784e-09  1.95621648e-09\n",
      "  6.86175028e-09 -3.75076219e-09  2.35417258e-09  8.26498178e-09\n",
      " -1.81879860e-09  1.07876693e-09  3.16489224e-09 -3.36621698e-09\n",
      "  2.24619838e-09  7.11642775e-09]\n",
      "Difference nome from numerical approximation:\n",
      "3.0548903841144933e-08 \n",
      "\n",
      "Gradient checking with regularization 0.001\n",
      "Difference from numerical approximation:\n",
      "[ 1.76671381e-09 -3.61598302e-10  1.17622549e-09  8.69600994e-09\n",
      "  5.02175719e-09 -2.81236382e-04  1.39603165e-04  1.40804536e-04\n",
      " -9.31306640e-07  1.95137967e-04  7.71493772e-05 -1.34666278e-04\n",
      "  2.93920814e-04  8.22747051e-05 -2.45330769e-04 -3.46853086e-04\n",
      " -2.83083560e-04 -6.79167527e-05  1.41253401e-04 -4.97627379e-05\n",
      "  4.32175440e-09  8.17181062e-09  2.83796551e-08  6.54572118e-05\n",
      "  1.03830061e-04  5.11155252e-05 -7.77863854e-05  2.34146134e-04\n",
      " -7.35449643e-05  1.38916572e-04  4.58745277e-05  2.07630003e-05\n",
      "  4.20571580e-06  1.01545575e-04  3.76410429e-04  3.21246629e-04\n",
      "  1.10078030e-04  1.57722747e-04]\n",
      "Difference nome from numerical approximation:\n",
      "0.000979494154891761 \n",
      "\n"
     ]
    }
   ],
   "source": [
    "for lambd in [0, 10**-3]:\n",
    "  debugger = NNDebugger(NeuralNetwork(3, \n",
    "                                      [Dense(5), \n",
    "                                      Sigmoid(), \n",
    "                                      Dense(3), \n",
    "                                      Sigmoid()]))\n",
    "  grads, num_grads = debugger.check_gradient(np.random.rand(3, 3), \n",
    "                                            np.eye(3), \n",
    "                                            BinaryCrossEntropy(lambd=lambd))\n",
    "\n",
    "  print(f'Gradient checking with regularization {lambd}')\n",
    "  print('Difference from numerical approximation:')\n",
    "  print(grads - num_grads)\n",
    "  print('Difference nome from numerical approximation:')\n",
    "  print(np.linalg.norm(grads - num_grads), '\\n')"
   ]
  },
  {
   "cell_type": "markdown",
   "metadata": {
    "id": "eeqccRhvcW-l"
   },
   "source": [
    "#### References"
   ]
  },
  {
   "cell_type": "markdown",
   "metadata": {
    "id": "Gvae4bpacYsl"
   },
   "source": [
    "[1] LeCun, Y., 1998. The MNIST database of handwritten digits. http://yann.lecun.com/exdb/mnist/.\n",
    "\n",
    "[2] Nielsen, M.A., 2015. Neural networks and deep learning (Vol. 2018). San Francisco, CA: Determination press.\n",
    "\n",
    "[3] Ng, A., 2017. Machine learning course. Coursera [online]. Available at: https://www.coursera.org/learn/machinelearning."
   ]
  }
 ],
 "metadata": {
  "colab": {
   "collapsed_sections": [],
   "name": "projeto2.ipynb",
   "provenance": []
  },
  "kernelspec": {
   "display_name": "Python 3",
   "language": "python",
   "name": "python3"
  },
  "language_info": {
   "codemirror_mode": {
    "name": "ipython",
    "version": 3
   },
   "file_extension": ".py",
   "mimetype": "text/x-python",
   "name": "python",
   "nbconvert_exporter": "python",
   "pygments_lexer": "ipython3",
   "version": "3.8.5"
  }
 },
 "nbformat": 4,
 "nbformat_minor": 4
}
