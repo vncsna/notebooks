{
 "cells": [
  {
   "cell_type": "code",
   "execution_count": 1,
   "metadata": {},
   "outputs": [],
   "source": [
    "# TODO: Fix algorithm, because it outputs values outside the desirable range"
   ]
  },
  {
   "cell_type": "markdown",
   "metadata": {
    "id": "5M1x6GL7R8xH"
   },
   "source": [
    "#### Libraries"
   ]
  },
  {
   "cell_type": "code",
   "execution_count": 2,
   "metadata": {},
   "outputs": [],
   "source": [
    "import numpy as np\n",
    "from scipy.io import loadmat\n",
    "from scipy.optimize import minimize"
   ]
  },
  {
   "cell_type": "markdown",
   "metadata": {
    "id": "5M1x6GL7R8xH"
   },
   "source": [
    "#### Collaborative Filtering"
   ]
  },
  {
   "cell_type": "markdown",
   "metadata": {},
   "source": [
    "##### Loading Files"
   ]
  },
  {
   "cell_type": "code",
   "execution_count": 3,
   "metadata": {},
   "outputs": [],
   "source": [
    "# load movies rating\n",
    "movies = loadmat('movies-rating.mat')\n",
    "y = movies['Y']\n",
    "r = movies['R']\n",
    "\n",
    "# m: number of movies\n",
    "# n: number of users\n",
    "# f: number of features\n",
    "m, n, f = *y.shape, 100\n",
    "\n",
    "# load movies name\n",
    "movies = []\n",
    "with open('movies-name.txt', 'r', encoding='utf-8') as file:\n",
    "    movies = file.readlines()"
   ]
  },
  {
   "cell_type": "markdown",
   "metadata": {},
   "source": [
    "##### Algorithm"
   ]
  },
  {
   "cell_type": "code",
   "execution_count": 4,
   "metadata": {},
   "outputs": [],
   "source": [
    "def collab_filter(xt):\n",
    "    '''Collaborative filtering cost function.'''\n",
    "\n",
    "    # convert vector to matrix\n",
    "    x = xt[:m * f].reshape((m, -1))\n",
    "    t = xt[m * f:].reshape((n,  -1))\n",
    "\n",
    "    # calculate cost\n",
    "    diff = ((x.dot(t.T) * r) - y)\n",
    "    cost = (diff ** 2).sum() / 2\n",
    "\n",
    "    # calculate gradient\n",
    "    x_grad = diff.dot(t).ravel()\n",
    "    t_grad = diff.T.dot(x).ravel()\n",
    "\n",
    "    # convert matrix to vector\n",
    "    xt = np.hstack((x_grad, t_grad))\n",
    "\n",
    "    return cost, xt"
   ]
  },
  {
   "cell_type": "markdown",
   "metadata": {},
   "source": [
    "##### Execution"
   ]
  },
  {
   "cell_type": "code",
   "execution_count": 5,
   "metadata": {},
   "outputs": [
    {
     "name": "stdout",
     "output_type": "stream",
     "text": [
      "Optimization terminated successfully.\n",
      "         Current function value: 0.000000\n",
      "         Iterations: 7366\n",
      "         Function evaluations: 11220\n",
      "         Gradient evaluations: 11220\n"
     ]
    }
   ],
   "source": [
    "# collaborative filtering matrices\n",
    "# initialization with uniform distribution\n",
    "x = np.random.uniform(size=(m, f))\n",
    "t = np.random.uniform(size=(n, f))\n",
    "xt = np.hstack((x.ravel(), t.ravel()))\n",
    "\n",
    "# minimization by conjugate gradient\n",
    "res = minimize(collab_filter,\n",
    "               xt,\n",
    "               method='CG',\n",
    "               jac=True,\n",
    "               options={\n",
    "                   'maxiter': 10000,\n",
    "                   'disp': True})\n",
    "xt = res['x']\n",
    "\n",
    "# convert vector to matrix\n",
    "x = xt[:m * f].reshape((m, -1))\n",
    "t = xt[m * f:].reshape((n,  -1))"
   ]
  },
  {
   "cell_type": "code",
   "execution_count": 6,
   "metadata": {},
   "outputs": [],
   "source": [
    "# calculate mean of movies\n",
    "rates = x.dot(t.T).mean(axis=1)\n",
    "\n",
    "# sort and extract the best scores\n",
    "best_rates = rates.argsort()[::-1][:10]"
   ]
  },
  {
   "cell_type": "code",
   "execution_count": 7,
   "metadata": {},
   "outputs": [
    {
     "name": "stdout",
     "output_type": "stream",
     "text": [
      "8.7 <=> 1670 Tainted (1998)\n",
      "8.5 <=> 1520 Fear, The (1995)\n",
      "8.1 <=> 1486 Girl in the Cadillac (1995)\n",
      "8.0 <=> 1320 Homage (1995)\n",
      "8.0 <=> 1349 Mille bolle blu (1993)\n",
      "8.0 <=> 1340 Crude Oasis, The (1995)\n",
      "8.0 <=> 1122 They Made Me a Criminal (1939)\n",
      "7.9 <=> 1679 B. Monkey (1998)\n",
      "7.9 <=> 1505 Killer: A Journal of Murder (1995)\n",
      "7.9 <=> 1624 Hush (1998)\n"
     ]
    }
   ],
   "source": [
    "# print best scores and movies\n",
    "for i in best_rates:\n",
    "    print(f'{rates[i]:.1f} <=> {movies[i][:-1]}')"
   ]
  },
  {
   "cell_type": "code",
   "execution_count": null,
   "metadata": {},
   "outputs": [],
   "source": []
  }
 ],
 "metadata": {
  "kernelspec": {
   "display_name": "Python 3",
   "language": "python",
   "name": "python3"
  },
  "language_info": {
   "codemirror_mode": {
    "name": "ipython",
    "version": 3
   },
   "file_extension": ".py",
   "mimetype": "text/x-python",
   "name": "python",
   "nbconvert_exporter": "python",
   "pygments_lexer": "ipython3",
   "version": "3.8.5"
  }
 },
 "nbformat": 4,
 "nbformat_minor": 4
}
