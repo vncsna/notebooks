{
 "cells": [
  {
   "cell_type": "code",
   "execution_count": null,
   "metadata": {},
   "outputs": [],
   "source": [
    "# TODO: Terminar de responder as questões teóricas"
   ]
  },
  {
   "cell_type": "markdown",
   "metadata": {},
   "source": [
    "Na medida do possível anonimizei a empresa e as questões."
   ]
  },
  {
   "cell_type": "markdown",
   "metadata": {},
   "source": [
    "### Teste de Programação"
   ]
  },
  {
   "cell_type": "code",
   "execution_count": null,
   "metadata": {},
   "outputs": [],
   "source": [
    "import numpy as np\n",
    "import pandas as pd\n",
    "from matplotlib import pyplot as plt"
   ]
  },
  {
   "cell_type": "markdown",
   "metadata": {},
   "source": [
    "#### Questão 1"
   ]
  },
  {
   "cell_type": "markdown",
   "metadata": {},
   "source": [
    "Como é construído o dendograma? </br>\n",
    "Como checo a qualidade do agrupamento? </br>\n",
    "Como funcionam os métodos de agrupamento hierárquico?"
   ]
  },
  {
   "cell_type": "code",
   "execution_count": null,
   "metadata": {},
   "outputs": [],
   "source": [
    "from scipy.cluster.hierarchy import dendrogram, linkage\n",
    "from sklearn.metrics import silhouette_samples\n",
    "from sklearn.metrics import silhouette_score"
   ]
  },
  {
   "cell_type": "code",
   "execution_count": null,
   "metadata": {},
   "outputs": [],
   "source": [
    "df12 = pd.read_csv('./agrup.csv', sep=';', header=None)\n",
    "df12 = df12.to_numpy().astype(float)"
   ]
  },
  {
   "cell_type": "code",
   "execution_count": null,
   "metadata": {},
   "outputs": [],
   "source": [
    "y = [2, 8, 9, 7, 7, 8, 11, 11, 6, 5]\n",
    "linked = linkage(y, 'single')\n",
    "\n",
    "plt.figure(figsize=(5, 3))\n",
    "dendrogram(linked,\n",
    "            orientation='top',\n",
    "            labels=range(1, 6),\n",
    "            distance_sort='descending',\n",
    "            show_leaf_counts=True)\n",
    "plt.show()"
   ]
  },
  {
   "cell_type": "code",
   "execution_count": null,
   "metadata": {},
   "outputs": [],
   "source": [
    "silhouette_score(df12.astype(float), [0, 0, 1, 1, 1], metric='precomputed')"
   ]
  },
  {
   "cell_type": "code",
   "execution_count": null,
   "metadata": {},
   "outputs": [],
   "source": [
    "silhouette_samples(df12.astype(float), [0, 0, 1, 1, 1], metric='precomputed')"
   ]
  },
  {
   "cell_type": "markdown",
   "metadata": {},
   "source": [
    "#### Questão 2"
   ]
  },
  {
   "cell_type": "markdown",
   "metadata": {},
   "source": [
    "Como funciona o DBSCAN?"
   ]
  },
  {
   "cell_type": "code",
   "execution_count": null,
   "metadata": {},
   "outputs": [],
   "source": [
    "from sklearn.cluster import DBSCAN"
   ]
  },
  {
   "cell_type": "code",
   "execution_count": null,
   "metadata": {},
   "outputs": [],
   "source": [
    "dbscan = DBSCAN(eps=6, min_samples=3, metric='precomputed')\n",
    "dbscan.fit(df12)\n",
    "dbscan.labels_"
   ]
  },
  {
   "cell_type": "markdown",
   "metadata": {},
   "source": [
    "#### Questão 3"
   ]
  },
  {
   "cell_type": "markdown",
   "metadata": {},
   "source": [
    "Como funciona o kNN? </br>\n",
    "Qual a complexidade computacional do kNN? </br>\n",
    "O tipo de validação cruzada interfere na complexidade?"
   ]
  },
  {
   "cell_type": "code",
   "execution_count": null,
   "metadata": {},
   "outputs": [],
   "source": [
    "from sklearn.neighbors import KNeighborsClassifier"
   ]
  },
  {
   "cell_type": "code",
   "execution_count": null,
   "metadata": {},
   "outputs": [],
   "source": [
    "df34 = pd.read_csv('./class.csv', sep=';')"
   ]
  },
  {
   "cell_type": "code",
   "execution_count": null,
   "metadata": {},
   "outputs": [],
   "source": [
    "def distance_matrix(X0, X1=None):\n",
    "  if X1 is None:\n",
    "    X1 = X0\n",
    "  X = np.zeros((X1.shape[0], X0.shape[0]))\n",
    "  for i in range(X0.shape[0]):\n",
    "    for j in range(X1.shape[0]):\n",
    "      d = 0\n",
    "      for k in range(X0.shape[1]):\n",
    "        d += 0 if X0.iloc[i, k] == X1.iloc[j, k] else 1\n",
    "      X[j, i] = d\n",
    "  return X"
   ]
  },
  {
   "cell_type": "code",
   "execution_count": null,
   "metadata": {},
   "outputs": [],
   "source": [
    "X = distance_matrix(df34.iloc[:, :-1])\n",
    "y = [0] * 6 + [1] * 6"
   ]
  },
  {
   "cell_type": "code",
   "execution_count": null,
   "metadata": {},
   "outputs": [],
   "source": [
    "clf = KNeighborsClassifier(n_neighbors=3, metric='precomputed')\n",
    "clf.fit(X, y).predict(X)"
   ]
  },
  {
   "cell_type": "code",
   "execution_count": null,
   "metadata": {},
   "outputs": [],
   "source": [
    "row = pd.DataFrame.from_dict({\n",
    "  'SextaSabado': ['Sim'], \n",
    "  'Faminto': ['Sim'],\n",
    "  'Clientes': ['Alguns'], \n",
    "  'Tipo': ['Italiano']})\n",
    "row_dist = distance_matrix(df34.iloc[:, :-1], row)"
   ]
  },
  {
   "cell_type": "code",
   "execution_count": null,
   "metadata": {},
   "outputs": [],
   "source": [
    "clf.predict(row_dist)"
   ]
  },
  {
   "cell_type": "markdown",
   "metadata": {},
   "source": [
    "#### Questão 4"
   ]
  },
  {
   "cell_type": "markdown",
   "metadata": {},
   "source": [
    "Como interpretar precisão, revocação e F1? </br>\n",
    "Que métrica utilizar caso o erro de cada classe seja diferente?"
   ]
  },
  {
   "cell_type": "code",
   "execution_count": null,
   "metadata": {},
   "outputs": [],
   "source": [
    "from sklearn.metrics import classification_report"
   ]
  },
  {
   "cell_type": "code",
   "execution_count": null,
   "metadata": {},
   "outputs": [],
   "source": [
    "df34_par = df34.loc[[0, 2, 4, 6, 8, 10]]\n",
    "df34_impar = df34.loc[[1, 3, 5, 7, 9, 11]]\n",
    "X_par = distance_matrix(df34_par.iloc[:, :-1])\n",
    "X_impar = distance_matrix(df34_par.iloc[:, :-1], df34_impar.iloc[:, :-1])"
   ]
  },
  {
   "cell_type": "code",
   "execution_count": null,
   "metadata": {},
   "outputs": [],
   "source": [
    "knn2 = KNeighborsClassifier(n_neighbors=3, metric='precomputed')\n",
    "knn2.fit(X_par, [0, 0, 0, 1, 1, 1]).predict(X_par)"
   ]
  },
  {
   "cell_type": "code",
   "execution_count": null,
   "metadata": {},
   "outputs": [],
   "source": [
    "knn2.predict(X_impar)"
   ]
  },
  {
   "cell_type": "code",
   "execution_count": null,
   "metadata": {},
   "outputs": [],
   "source": [
    "print(classification_report([0, 0, 0, 1, 1, 1], knn2.predict(X_impar)))"
   ]
  },
  {
   "cell_type": "markdown",
   "metadata": {},
   "source": [
    "#### Questão 5"
   ]
  },
  {
   "cell_type": "markdown",
   "metadata": {},
   "source": [
    "Como funciona o lasso? </br>\n",
    "Como funciona a regressão linear? </br>\n",
    "O que significa uma variável ter coeficiente zero?"
   ]
  },
  {
   "cell_type": "code",
   "execution_count": null,
   "metadata": {},
   "outputs": [],
   "source": [
    "from sklearn.linear_model import Lasso\n",
    "from sklearn.linear_model import LinearRegression\n",
    "from sklearn.metrics import mean_absolute_error\n",
    "from sklearn.model_selection import LeaveOneOut\n",
    "from sklearn.model_selection import GridSearchCV"
   ]
  },
  {
   "cell_type": "code",
   "execution_count": null,
   "metadata": {},
   "outputs": [],
   "source": [
    "df56 = pd.read_csv('regre.csv', sep=';')\n",
    "df56 = df56.to_numpy()\n",
    "\n",
    "x = df56[:, :-1]\n",
    "y = df56[:, -1].reshape(-1, 1)"
   ]
  },
  {
   "cell_type": "code",
   "execution_count": null,
   "metadata": {},
   "outputs": [],
   "source": [
    "reg = GridSearchCV(Lasso(), \n",
    "                    param_grid={\n",
    "                      'alpha': [10 ** x for x in range(-3, 4)]}, \n",
    "                    scoring='neg_mean_absolute_error',\n",
    "                    cv=LeaveOneOut())\n",
    "reg.fit(x, y)\n",
    "\n",
    "print(f'melhor hiperparametro: {reg.best_params_}')\n",
    "print('mae:', np.mean(np.abs(reg.predict(x) - y)))"
   ]
  },
  {
   "cell_type": "code",
   "execution_count": null,
   "metadata": {},
   "outputs": [],
   "source": [
    "reg0 = LinearRegression()\n",
    "reg0.fit(x, y)\n",
    "\n",
    "print(f'mae: {mean_absolute_error(y, reg0.predict(x))}')"
   ]
  },
  {
   "cell_type": "markdown",
   "metadata": {},
   "source": [
    "#### Questão 6"
   ]
  },
  {
   "cell_type": "markdown",
   "metadata": {},
   "source": [
    "Como funciona o algoritmo CART? </br>\n",
    "Como funciona o bootstraping?"
   ]
  },
  {
   "cell_type": "code",
   "execution_count": null,
   "metadata": {},
   "outputs": [],
   "source": [
    "from sklearn.tree import DecisionTreeRegressor\n",
    "from sklearn.tree import plot_tree"
   ]
  },
  {
   "cell_type": "code",
   "execution_count": null,
   "metadata": {},
   "outputs": [],
   "source": [
    "reg = DecisionTreeRegressor(max_depth=3)"
   ]
  },
  {
   "cell_type": "code",
   "execution_count": null,
   "metadata": {},
   "outputs": [],
   "source": [
    "reg.fit(x, y)\n",
    "reg.predict([[245, 4, 9700, 4600, 1835]])"
   ]
  },
  {
   "cell_type": "code",
   "execution_count": null,
   "metadata": {},
   "outputs": [],
   "source": [
    "reg.decision_path([[245, 4, 9700, 4600, 1835]]).A"
   ]
  },
  {
   "cell_type": "code",
   "execution_count": null,
   "metadata": {},
   "outputs": [],
   "source": [
    "plot_tree(reg);"
   ]
  },
  {
   "cell_type": "markdown",
   "metadata": {},
   "source": [
    "#### Questão 7"
   ]
  },
  {
   "cell_type": "markdown",
   "metadata": {},
   "source": [
    "Perguntas sobre SQL, em particular ORDER BY, GROUP BY e CREATE INDEX."
   ]
  },
  {
   "cell_type": "markdown",
   "metadata": {},
   "source": [
    "#### Questão 8"
   ]
  },
  {
   "cell_type": "markdown",
   "metadata": {},
   "source": [
    "Perguntas sobre recursão e complexidade de algoritmos."
   ]
  },
  {
   "cell_type": "code",
   "execution_count": null,
   "metadata": {},
   "outputs": [],
   "source": [
    "def calculo(x, y):\n",
    "  if y == 0:\n",
    "    return 0\n",
    "  elif y == 1:\n",
    "    return x\n",
    "  else:\n",
    "    return x + calculo(x, y - 1)\n",
    "\n",
    "print('calculo(5, 4):', calculo(5, 4))\n",
    "print('A soma tem complexidade O(y)?')"
   ]
  },
  {
   "cell_type": "markdown",
   "metadata": {},
   "source": [
    "### Teste Lógico"
   ]
  },
  {
   "cell_type": "markdown",
   "metadata": {},
   "source": [
    "Dicas para solucionar as questões:"
   ]
  },
  {
   "cell_type": "markdown",
   "metadata": {},
   "source": [
    "R1 & R2 - Complete a sequência."
   ]
  },
  {
   "cell_type": "markdown",
   "metadata": {},
   "source": [
    "R3 - Procurar \"ITA 2002 Corrida de bicicletas\"\n"
   ]
  },
  {
   "cell_type": "markdown",
   "metadata": {},
   "source": [
    "R4 - Aplique a contrapositiva:\n",
    "- Se P é M, então A não é P;\n",
    "- Se P não é M, então B é E;\n",
    "- Daí se A é P, então P não é M, logo B é E."
   ]
  },
  {
   "cell_type": "markdown",
   "metadata": {},
   "source": [
    "R5 & R10 - Considere o pior caso possível."
   ]
  },
  {
   "cell_type": "markdown",
   "metadata": {},
   "source": [
    "R6 - Use `S = So + VT` e encontre tempo, distância e velocidade."
   ]
  },
  {
   "cell_type": "markdown",
   "metadata": {},
   "source": [
    "R7 & R9 - Aplique diagramas de Venn."
   ]
  },
  {
   "cell_type": "markdown",
   "metadata": {},
   "source": [
    "R8 - Resolva por sistema de equações."
   ]
  }
 ],
 "metadata": {
  "kernelspec": {
   "display_name": "Python 3",
   "language": "python",
   "name": "python3"
  },
  "language_info": {
   "codemirror_mode": {
    "name": "ipython",
    "version": 3
   },
   "file_extension": ".py",
   "mimetype": "text/x-python",
   "name": "python",
   "nbconvert_exporter": "python",
   "pygments_lexer": "ipython3",
   "version": "3.8.5"
  }
 },
 "nbformat": 4,
 "nbformat_minor": 4
}
