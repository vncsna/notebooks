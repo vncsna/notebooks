{
 "cells": [
  {
   "cell_type": "markdown",
   "metadata": {},
   "source": [
    "#### 2021.03.17\n",
    "\n",
    "Neste teste as respostas foram fornecidas no final."
   ]
  },
  {
   "cell_type": "markdown",
   "metadata": {},
   "source": [
    "**Um teste de covid tem probabilidade 5% de falso positivo e de 20% de falso negativo. Numa cidade onde 10% da população tem covid, qual a chance do paciente, selecionado aleatoriamente, ter covid dado que testou positivo para covid?**\n",
    "\n",
    "Seja C o evento de ter covid (S de estar saudável) e P o evento de testar positivo (No evento de testar negativo). P(C) = 0,1 => P(S)= 1 - 0,1 = 0,9 pois C e S são eventos complementares. Falso positivo = 5% => P(P|S) = 0,05 => P(N|S) = 1- 0,05 = 0,95 pois P e N são eventos complementares. Falso negativo = 0,2 =>  P(N|C) = 0,2 => P(P|C) = 1 – 0,2 = 0,8.\n",
    "\n",
    "A probabilidade do paciente ter covid dado que testou positivo para covid é P(C|P). Pelo Teorema de Bayes, P(C|P) = [ P(P|C)* P(C) ] / P(P|C)* P(C) + P(P|S)* P(S) ] => P(C|P) = (0,8*0,1) / = (0,8*0,1 + 0,05*0,9) = 0,64."
   ]
  },
  {
   "cell_type": "markdown",
   "metadata": {},
   "source": [
    "**Suponha que estamos coletando dados para uma pesquisa salarial em um bairro e nesse bairro há três grupos de pessoas iguais em tudo (inclusive na quantidade) exceto pelo fato de que não dizem a verdade sobre os salários, vamos denominá-los de: sinceros, fraudadores e mentirosos. Os sinceros dizem exatamente o valor de seus salários. Os fraudadores sempre dizem ter uma renda média igual a média dos sinceros e os mentirosos aumentam suas rendas numa ordem de 3x. Suponha que a distribuição abaixo representa apenas os sinceros.**  \n",
    "\n",
    "<img src=\"q2.png\" width=\"400\">\n",
    "\n",
    "**Temos as seguintes afirmações.**  \n",
    "**I - A Média da distribuição dos Sinceros é maior do que a média Geral.**  \n",
    "**II - A Variância da distribuição Geral é maior do que seria se todos fossem sinceros.**  \n",
    "**III - A média dos sinceros está entre 1 e 2.**  \n",
    "**Quais dessas afirmações são verdadeiras?**\n",
    "\n",
    "I É falsa porque os fraudadores são somados na média, logo não são capazes de aumentá-la, basta os mentirosos colocarem qualquer valor acima da média para que a  afirmativa seja falsa.  \n",
    "II - É Verdadeira pois se os Sinceros tem uma variância de X, e os fraudadores têm variância de zero, basta que os mentirosos tenham uma variância de pelo menos 2x para que a variância geral seja aumentada. Como eles aumentam seus salários em 3x e a variância é quadrática em relação à média, ela será certamente muito maior que 2x.  \n",
    "III - Falsa pois a média deve estar localizada bem à direita da moda em uma distribuição tão assimétrica."
   ]
  },
  {
   "cell_type": "markdown",
   "metadata": {},
   "source": [
    "**Utilizando a imagem abaixo, complete a ordem correta [A-B-C] das estatísticas de centralidade.**\n",
    "\n",
    "<img src=\"q3.png\" width=\"200\">\n",
    "\n",
    "Média, mediana e moda são medidas de centralidade. A média representa a tendência central de uma distribuição, levando em conta todos os valores e magnitudes existentes nos dados. A mediana é o ponto que representa o centro exato da distribuição, onde 50% dos valores são menores e 50% são maiores. A moda representa o valor mais frequente. No gráfico em questão estamos vendo uma distribuição assimétrica à esquerda. A maior frequência está na faixa de valores mais à direita do eixo x. Quanto mais à esquerda do eixo x, menor a frequência dos dados. No caso de distribuições assimétricas, a mediana ou a moda podem representar uma tendência central mais robusta. Como é possível de observar, a média neste caso é enviesada pela existência de valores outliers."
   ]
  },
  {
   "cell_type": "markdown",
   "metadata": {},
   "source": [
    "**Para selecionar um recruta dentre 225 voluntários, o sargento de determinado batalhão os dispõe em um quadrado de 15 linhas por 15 colunas e, a princípio, manda sair o mais alto de cada linha e denomina de A o mais baixo, dentre esses 15. Em seguida, faz com que todos retomem suas posições no quadrado e, agora, manda sair o mais baixo de cada coluna e denomina de B o mais alto, dentre esses 15. Analise as seguintes situações:**  \n",
    "**I - A ser mais alto do que B;**  \n",
    "**II - B ser mais alto do que A;**  \n",
    "**III - A e B são a mesma pessoa.**  \n",
    "**É(São) possível(is) APENAS a(s) situação(ões)**  \n",
    "\n",
    "São possíveis I e III.  \n",
    "Por exemplo, no caso em que os 15 mais altos estão na coluna 1, todos selecionados na primeira etapa (maior de cada linha) estarão na coluna 1, sendo o 15º mais alto da turma o A, por ser o mais baixo da linha 1. Note que ele é mais alto do que todos soldados de outras colunas.  Ele será selecionado na segunda ocasião por ser o mais baixo da coluna 1, mas será o mais alto entre os mais baixos, ou seja, também é o B. Logo é possível que A e B sejam a mesma pessoa.\n",
    "Também é possível que A seja maior do que B, uma vez que A é o menor entre os maiores. Mas não é possível que B seja mais alto do que A, uma vez que B é o maior entre os mais baixos."
   ]
  },
  {
   "cell_type": "markdown",
   "metadata": {},
   "source": [
    "**São formas de lidar com dados ausentes ou corrompidos em um conjunto de dados:\n",
    "i) Eliminar linhas ou colunas faltantes; ii) Substituir os valores ausentes por média ou mediana ou moda; iii) Atribuir uma categoria única aos valores ausentes. Ex.: Categoria \"Não consta\".**  \n",
    "**a) I e II corretas**  \n",
    "**b) I e III corretas**  \n",
    "**c) II e III corretas**  \n",
    "**d) I, II e III corretas**  \n",
    "**e) Somente II é correta**  \n",
    "\n",
    "Dados ausentes ou corrompidos podem ter origem em uma série de motivos. Seja para o desenvolvimento de análises mais simples, mas principalmente no processo de desenvolvimento de modelos é necessário tratar esse problema e há diferentes formas de fazê-lo. Por exemplo, quando uma variável possui uma proporção muito grande de dados ausentes, pode ser que o mais adequado seja eliminar a coluna inteira. Se algumas observações possuem muitos campos com valores ausentes, pode ser que você queira eliminar as observações inteiras. No caso em que uma variável contínua apresenta cerca de 10% de valores ausentes, por exemplo, e você queira usar os dados das demais features, talvez você possa substituir por uma medida de centralidade como a média ou a mediana. Desta maneira os valores imputados não impactarão fortemente as distribuições. Ou, no caso de variáveis categóricas, o mais adequado pode ser criar uma nova categoria para os dados ausentes e considerá-los como um novo grupo. Cada uma dessas possibilidades pode ser adequada dependendo da situação e do seu conhecimento sobre o problema e sobre a forma como os dados foram construídos.\n",
    "\n",
    "Referência: [Como lidar com dados faltantes](https://portaldatascience.com/como-lidar-com-valores-faltantes-missing/)"
   ]
  },
  {
   "cell_type": "markdown",
   "metadata": {},
   "source": [
    "**Qual das alternativas a seguir é uma desvantagem das árvores de decisão?**  \n",
    "**a. Análise Fatorial**  \n",
    "**b. Árvores de decisão não são robustas para outliers**  \n",
    "**c. Árvores de decisão são propensas a overfit**  \n",
    "**d. É preciso categorizar variáveis contínuas para melhorar a acurácia da previsão**  \n",
    "**e. Inputs com diferentes escalas comprometem a estimação da árvore**  \n",
    "\n",
    "Análise fatorial não é utilizada em árvore de decisões (a incorreta). As árvores de decisão são robustas a outlier (b incorreta). Não é uma boa prática categorizar variáveis contínuas em modelos de árvore de decisão (c incorreta). Diferentemente de modelos de redes neurais, SVM e k-means, não é necessário padronizar variáveis com diferentes escalas em árvores de decisão (e incorretas). A única alternativa correta é a (c), uma vez que árvores de decisão podem ter profundidade grande favorecendo o overfit. O overfit é o fenômeno no qual o sistema de aprendizagem se ajusta perfeitamente aos dados de treinamento fornecidos, de forma que seria impreciso ao prever os resultados dos dados não treinados.\n",
    "\n",
    "Referência: https://www.researchgate.net/post/What_is_over_fitting_in_decision_tree"
   ]
  },
  {
   "cell_type": "markdown",
   "metadata": {},
   "source": [
    "**Uma vantagem de estimar uma função em que todas as variáveis foram transformadas em seus logaritmos naturais é que**  \n",
    "**a. Problemas com multicolinearidade são eliminados.**  \n",
    "**b. Evita problemas com multicolinearidade.**  \n",
    "**c. Os coeficientes de inclinação estimados são todos elasticidades.**  \n",
    "**d. Elimina o impacto dos outliers na estimativa dos parâmetros.**  \n",
    "**e. Ajuda o otimizador a convergir para o mínimo local.**  \n",
    "\n",
    "Quando aplicamos transformações logarítmicas os coeficientes de inclinação b1, b2, ..., bn do modelo y = b0 + b1 log(x1) + ... + bn log(xn) são interpretados como elasticidades das variáveis x1, ...., xn em relação à variável y.\n",
    "Transformações logarítmicas não diminuem altas correlações entre as variáveis explicativas, implicando que as alternativas (a) e (b) são incorretas. O impacto dos outliers na estimação de parâmetros pode até reduzir, mas não será necessariamente eliminado, então a alternativa (c) está incorreta."
   ]
  },
  {
   "cell_type": "markdown",
   "metadata": {},
   "source": [
    "**A relação entre o número de cervejas consumidas (x) e o teor de álcool no sangue (y) em porcentagem foi estudada em 16 estudantes universitários do sexo masculino usando regressão de mínimos quadrados. A seguinte equação de regressão foi obtida a partir deste estudo:**  \n",
    "**y_hat = -0,0127 + 0,0180x**  \n",
    "**A alternativa que melhor descreve a interpretação da reta de regressão é:**  \n",
    "**a.  Cada cerveja consumida aumenta o álcool no sangue em 1,27%.**  \n",
    "**b. Tomar mais cervejas implica em aumentar o teor alcoólico do sangue.**  \n",
    "**c. Em média, são necessárias 1,8 cervejas para aumentar o teor de álcool no sangue em 1%.**  \n",
    "**d. Cada cerveja consumida está associada a um aumento do álcool no sangue em uma quantidade média de 1,8%.**  \n",
    "**e. Cada cerveja consumida aumenta o álcool no sangue em exatamente 0,018.**  \n",
    "\n",
    "No modelo de regressão y = a + bx, o valor de b (no caso 1,8%) indica o valor médio a ser aumentado em y quando aumentando x em 1 unidade. Consequentemente, a alternativa (d) está correta e as alternativas (a) e (c) estão incorretas;\n",
    "A alternativa (b) está incorreta porque a interpretação do modelo de regressão é associação entre variáveis, mas necessariamente relação de causalidade. Já alternativa (e) está incorreta pois a regressão estima o valor médio de y e não o valor de y"
   ]
  },
  {
   "cell_type": "markdown",
   "metadata": {},
   "source": [
    "**Modelos de crédito geralmente são desenvolvidos usando informações de clientes com linhas de crédito aprovadas anteriormente e que se mostraram bons ou maus pagadores. Mas o mercado potencial envolve clientes conhecidos e não conhecidos, de tal maneira que uma amostra onde estão incluídos apenas clientes conhecidos é uma amostra enviesada pelos critérios de aprovação da instituição e não representam o mercado potencial. Qual o nome da técnica usualmente para lidar com este tipo de problema?**\n",
    "\n",
    "**a) Matriz de rejeição**  \n",
    "**b) Matriz de migração**  \n",
    "**c) Inferência de rejeitados**  \n",
    "**d) Regressão logística**  \n",
    "**e) Curva de sobrevivência**  \n",
    "\n",
    "Referência: [Modelagem de Risco de Crédito e Inferência de Rejeitados](https://medium.com/datarisk-io/modelagem-de-risco-de-cr%C3%A9dito-vi%C3%A9s-e-infer%C3%AAncia-de-rejeitados-29aa8ab8ed58)"
   ]
  },
  {
   "cell_type": "markdown",
   "metadata": {},
   "source": [
    "**O centro da distribuição de uma variável aleatória é conhecido como:**  \n",
    "**a) intercepto**  \n",
    "**b) média**  \n",
    "**c) variância**  \n",
    "**d) desvio padrão**  \n",
    "**e) mediana**  \n",
    "\n",
    "Se tomarmos como exemplo um conjunto de dados de corrida de táxis que pode demorar de 5 min a muitas horas, ao calcular a média as corridas muito longas ou muito curtas podem influenciar muito os resultados, para resolver esse problema ordenamos todos os dados e selecionamos o meio da amostra.\n",
    "\n",
    "Referência: [Média ou mediana? Entendendo cada uma](https://www.alura.com.br/artigos/media-ou-mediana-entendendo-cada-uma)"
   ]
  },
  {
   "cell_type": "markdown",
   "metadata": {},
   "source": [
    "**Como se chama o fenômeno no qual a variabilidade de uma variável preditora (x) é estável ao longo dos valores de uma variável predita (y)?**\n",
    "\n",
    "Temos homocedasticidade quando os erros são relacionados de forma estável ao longo de seus valores, de modo que a variância dos erros é comum para todas as observações. Essa é uma premissa da regressão linear e análise de variância (ANOVA), por exemplo."
   ]
  },
  {
   "cell_type": "markdown",
   "metadata": {},
   "source": [
    "**Qual a melhor forma de visualização da relação entre duas variáveis contínuas?**\n",
    "\n",
    "a) O density plot é uma visualização poderosa para analisar a forma e comparar distribuições, mas que não informa muito sobre a relação entre duas variáveis. Por isso, não é a resposta correta.\n",
    "\n",
    "b) O scatter plot relaciona dois vetores nos eixos x e y, permitindo visualizar a associação entre eles. É o gráfico que mais informa sobre a relação entre duas variáveis. É possível observar a tendência, a forma, casos anômalos. Por isso é a resposta correta.\n",
    "\n",
    "c) O barplot é ótimo para analisar a distribuição de frequências de variáveis discretas e para comparar distribuições condicionais deste tipo de variáveis. Mas ele não informa muito sobre a relação entre elas e não é a resposta correta.\n",
    "\n",
    "d) No final das contas o Line plot é estruturado de forma parecida com o scatterplot. Uma interação de vetores nos eixos x e y. A diferença é que o Line plot permite estabelecer uma relação de continuidade, representando distribuições em intervalos ordenados. Por isso é muito usado para visualizar séries temporais, por exemplo."
   ]
  },
  {
   "cell_type": "markdown",
   "metadata": {},
   "source": [
    "**[Métricas de Avaliação em Machine Learning: Classificação](https://medium.com/kunumi/m%C3%A9tricas-de-avalia%C3%A7%C3%A3o-em-machine-learning-classifica%C3%A7%C3%A3o-49340dcdb198)**"
   ]
  },
  {
   "cell_type": "markdown",
   "metadata": {},
   "source": [
    "#### 2021.03.19"
   ]
  },
  {
   "cell_type": "markdown",
   "metadata": {},
   "source": [
    "2) How many 3-digit numbers can be formed from the digits 2, 3, 5, 6, 7 and 9, which are divisible by 5 and none of the digits is repeated? **20**\n",
    "\n",
    "3) The time required to search an element in a linked list of length n is **O(n)**\n",
    "\n",
    "4) Which of these statistics are particularly sensitive to outliers? **Mean, Min, Max and Standard Deviation.**\n",
    "\n",
    "5) There are N biliard balls in a basket. The biliard balls are numbered from 1 to N. Four balls are randomly selected, numbered 3, 4, 6, and 11. What is the maximum likelihood estimate (MLE) for N?\n",
    "\n",
    "6) An exam is performed to detect a rare disease, present in 0.1% of the population. Among patients who have the disease, 80% of the time the exam result is positive. When doctors prescribe the exam, 50% of the results come positive. When performed in random subjects, 0.8% of them test positive. The chance that one of those \"positives\" actually has the disease is ____.\n",
    "\n",
    "7) There is a box with 2 identical red balls, 2 identical black balls, and 4 identical blue balls. Someone will sequentially remove 3 balls from the box. We define as a different sequence of removal the sequence of colours of the balls removed. E.g.: [red, black, red] is one sequence. Considering only the sequences in which at least one of the balls was black, there are ____ different possible sequences of removing the 3 balls"
   ]
  },
  {
   "cell_type": "markdown",
   "metadata": {},
   "source": [
    "8) Covid and Vitamin D\n",
    "\n",
    "Analysing lab tests during the Coronavirus pandemic, one of our analysts got the following results for patients which tested for Sars-Cov 2 (PCR) and who also tested vitamin D levels within the last 6 months:\n",
    "\n",
    "- Low vitamin-D and PCR positive / PCR positivity rate: 3000 / 30%\n",
    "- Low vitamin D and PCR negative / PCR positivity rate: 7000 / 70%\n",
    "- Normal vitamin-D and PCR positive / PCR positivity rate: 6000 / 20%\n",
    "- Normal vitamin D and PCR negative / PCR positivity rate: 24000/ 80%\n",
    "\n",
    "The analyst thinks those results might indicate that vitamin D supplementation can help to prevent Covid-19 development\n",
    "\n",
    "When presenting his hypothesis, an experienced doctor argued that the analyst had found an indirect association. According to this doctor, vitamin D as measured in lab tests is normally lower in people from certain mainly from Africa and Asia, because those people's bodies are physiologically more efficient at using vitamin D.\n",
    "\n",
    "Consider the statements:\n",
    "\n",
    "A) Vitamin D levels cannot be accurately assessed from blood samples, as sunlight causes the production of vitamin D directly on tissues were it can be consumed\n",
    "\n",
    "B) The prevalence of Covid-19 (i.e. the proportion of the population that has developed the disease) is associated with sociodemographic variables like neighborhood and income level, which are, in turn, associated with an ethnic group\n",
    "\n",
    "C) People infected by Sars-Cov-2 who develop symptoms are more likely to be tested for Covid-19.\n",
    "\n",
    "Which of the above statements, if true, can support the doctor's claim that the link between vitamin D levels and Covid-19 infection might be indirect.\n",
    "\n",
    "**A & B**"
   ]
  },
  {
   "cell_type": "markdown",
   "metadata": {},
   "source": [
    "9) Cancer detection model\n",
    "\n",
    "You have received a representative dataset of patients who tested for cancer with correlate features. You have developed a model to predict cancer using those features, achieving 95% accuracy\n",
    "\n",
    "The dataset has 30 correlate features and 3000 patients who got tested for cancer There were 120 patients who tested positive for cancer\n",
    "\n",
    "Considering a baseline model that would predict \"not cancer\" for all patients, it is true that\n",
    "\n",
    "Pick ONE OR MORE options\n",
    "\n",
    "- Your model is useless. The baseline model, despite being completely naive, has better accuracy\n",
    "\n",
    "- **While the baseline model is not useful your model might be useful. For instance, if there are more true positives than false negatives, being classified as positive is a strong predictor of cancer, which can be used to prioritise patients who need testing**\n",
    "\n",
    "- Your model is likely useful. It can be used in an ensemble with the baseline model, with the combined model likely achieving accuracy superior to 96%.\n",
    "\n",
    "- **The accuracy of the baseline model indicates that your model can certainly be improved.**"
   ]
  },
  {
   "cell_type": "markdown",
   "metadata": {},
   "source": [
    "10) Moving to a new town\n",
    "\n",
    "Complete the blanks in the following question with the appropriate answer.\n",
    "\n",
    "You are about to decide on moving to a new town. Before making your decision, you want to know if the town is a safe place to circulate. Fortunately, you have two friends living there, so you decided to ask, each of them, whether the town is safe. Both have told you the town is safe,\n",
    "\n",
    "You know your friends well, and you know they are not serious. You know that whatever they tell you, there is a 4/7 chance each of them is saying the truth, and 3/7 of lying. The chances each of them will lie to you are independent, I.e., the chance both are lying simultaneously is 9/49, as is 16/49 the chance both are telling the truth.\n",
    "\n",
    "Given you have no prior expectation about the safety of the town, after talking to your friends your belief that the town is safe is"
   ]
  },
  {
   "cell_type": "markdown",
   "metadata": {},
   "source": [
    "11) Cartridge Recycling Complexity\n",
    "\n",
    "An office supply store has an ink cartridge recycling program. For every cartridge recycled, the customer has two options:\n",
    "\n",
    "- Option 1: Can simply earn certain number of dollars for each cartridge\n",
    "- Option 2: Can combine the cartridges with a certain number of dollars in order to purchase special products called perks items!\n",
    "\n",
    "A customer is currently enrolled in this program and would like to purchase the maximum number of perks iterns' Given a certain number of cartridges and dollars, and how many perks items can the customer buy?\n",
    "\n",
    "Example:\n",
    "\n",
    "- cartridges = 10\n",
    "- dollars = 10\n",
    "- recycleReward = 2, the amount earned by recycling a single cartridge\n",
    "- perksCost 2, the amount required for a customer to buy a single perks item combined with a recycled cartridge\n",
    "\n",
    "The best thing the customer can do is to first recycle 3 cartridges, earning 6 dollars. After this, 7 cartridges and 16 dollars are left The 7 cartridges can be combined with 14 dollars to purchase 7 perks items. This is the maximum number of perks items that can be bought\n",
    "\n",
    "About the complexity of this function, it is true that\n",
    "\n",
    "- The problem of calculating the maxPerksitems is an NP-Complete problem, thus exact solutions can only be assured by exhaustive search, which is usually unpractical\n",
    "- The optimisation involving finding the best of two quantities, therefore the best complexity is quadratic\n",
    "- The problem consists in finding which is the best feasible triple (cartridges, dollars, reclycledCartridges), which can be reduced to finding the best corresponding recycledCartridges, with linear complexity\n",
    "- **It is possible to find an analytical closed formula for maxPerksitems, and therefore the best complexity is constant**"
   ]
  }
 ],
 "metadata": {
  "kernelspec": {
   "display_name": "Python 3",
   "language": "python",
   "name": "python3"
  },
  "language_info": {
   "codemirror_mode": {
    "name": "ipython",
    "version": 3
   },
   "file_extension": ".py",
   "mimetype": "text/x-python",
   "name": "python",
   "nbconvert_exporter": "python",
   "pygments_lexer": "ipython3",
   "version": "3.8.5"
  }
 },
 "nbformat": 4,
 "nbformat_minor": 4
}
