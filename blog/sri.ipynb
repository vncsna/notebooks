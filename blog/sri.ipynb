{
 "cells": [
  {
   "cell_type": "markdown",
   "metadata": {},
   "source": [
    "#### Bibliotecas"
   ]
  },
  {
   "cell_type": "code",
   "execution_count": 1,
   "metadata": {},
   "outputs": [],
   "source": [
    "import numpy as np\n",
    "import matplotlib.pyplot as plt\n",
    "from numpy.linalg import norm\n",
    "from sklearn.feature_extraction.text import TfidfVectorizer"
   ]
  },
  {
   "cell_type": "markdown",
   "metadata": {},
   "source": [
    "#### Base de Dados"
   ]
  },
  {
   "cell_type": "markdown",
   "metadata": {},
   "source": [
    "Para exemplificar extraí os títulos de links de uma pesquisa no Google, dois títulos da primeira página e dois títulos da segunda página. Logo temos um ranqueamento de referência."
   ]
  },
  {
   "cell_type": "code",
   "execution_count": 2,
   "metadata": {},
   "outputs": [],
   "source": [
    "corpus = [\n",
    "    \"Food Trucks em Manaus\", # Consulta\n",
    "    \"Conheça alguns dos principais food parks espalhados por toda a cidade de Manaus\", # Página 1 do Google\n",
    "    \"O melhor food truck de Manaus (Em novo endereço)\", # Página 1 do Google\n",
    "    \"Como chegar a Bambina Food Truck em Manaus de Ônibus?\", # Página 4 do Google\n",
    "    \"Projeto de Lei regulamenta Food Trucks em Manaus\" # Página 4 do Google\n",
    "]"
   ]
  },
  {
   "cell_type": "markdown",
   "metadata": {},
   "source": [
    "As limitações da criação deste ranqueamento são inumeras, dentre elas posso comentar que não estamos realizando um tratamento correto das frases por exemplo."
   ]
  },
  {
   "cell_type": "code",
   "execution_count": 3,
   "metadata": {},
   "outputs": [],
   "source": [
    "vectorizer = TfidfVectorizer(analyzer='word')\n",
    "x = vectorizer.fit_transform(corpus)"
   ]
  },
  {
   "cell_type": "code",
   "execution_count": 4,
   "metadata": {},
   "outputs": [
    {
     "data": {
      "text/plain": [
       "'Corpus: alguns bambina chegar cidade como conheça de dos em endereço espalhados food lei manaus melhor novo parks por principais projeto regulamenta toda truck trucks ônibus'"
      ]
     },
     "execution_count": 4,
     "metadata": {},
     "output_type": "execute_result"
    }
   ],
   "source": [
    "'Corpus: ' + ' '.join(vectorizer.get_feature_names())"
   ]
  },
  {
   "cell_type": "markdown",
   "metadata": {},
   "source": [
    "#### Similaridade"
   ]
  },
  {
   "cell_type": "markdown",
   "metadata": {},
   "source": [
    "Distância Euclidiana "
   ]
  },
  {
   "cell_type": "code",
   "execution_count": 5,
   "metadata": {},
   "outputs": [
    {
     "name": "stdout",
     "output_type": "stream",
     "text": [
      "Distância(Consulta, Documento 1) = 1.33\n",
      "Distância(Consulta, Documento 2) = 1.19\n",
      "Distância(Consulta, Documento 3) = 1.21\n",
      "Distância(Consulta, Documento 4) = 0.95\n"
     ]
    }
   ],
   "source": [
    "for i in range(1, 5):\n",
    "    dist = norm((x[0, :] - x[i, :]).A)\n",
    "    print(f\"Distância(Consulta, Documento {i}) = {dist:.2f}\")"
   ]
  },
  {
   "cell_type": "markdown",
   "metadata": {},
   "source": [
    "Similaridade de Cossenos"
   ]
  },
  {
   "cell_type": "code",
   "execution_count": 6,
   "metadata": {},
   "outputs": [],
   "source": [
    "def cosine_similarity(x, y):\n",
    "    x = x.A.ravel()\n",
    "    y = y.A.ravel()\n",
    "    return np.dot(x, y) / (norm(x) * norm(y))"
   ]
  },
  {
   "cell_type": "code",
   "execution_count": 7,
   "metadata": {},
   "outputs": [
    {
     "name": "stdout",
     "output_type": "stream",
     "text": [
      "Similaridade(Consulta, Documento 1) = 0.12\n",
      "Similaridade(Consulta, Documento 2) = 0.30\n",
      "Similaridade(Consulta, Documento 3) = 0.27\n",
      "Similaridade(Consulta, Documento 4) = 0.55\n"
     ]
    }
   ],
   "source": [
    "for i in range(1, 5):\n",
    "    sim = cosine_similarity(x[0, :], x[i, :])\n",
    "    print(f\"Similaridade(Consulta, Documento {i}) = {sim:.2f}\")"
   ]
  },
  {
   "cell_type": "markdown",
   "metadata": {},
   "source": [
    "#### Ranqueamento"
   ]
  },
  {
   "cell_type": "markdown",
   "metadata": {},
   "source": [
    "Divindo os documentos em relevantes (R) e irrelevantes (I) vemos que nosso ranqueamento retornou a sequência I, R, I, R. Uma forma de avaliar este ranquemento é pela precisão e revocação dos primeiros `n` elementos, mostrado a seguir."
   ]
  },
  {
   "cell_type": "code",
   "execution_count": 10,
   "metadata": {},
   "outputs": [
    {
     "data": {
      "image/png": "[encoded data removed]",
      "text/plain": [
       "<Figure size 432x288 with 1 Axes>"
      ]
     },
     "metadata": {
      "needs_background": "light"
     },
     "output_type": "display_data"
    }
   ],
   "source": [
    "plt.plot(range(5), [0, 0, 0.5, 0.33, 0.5], 'o-', color='C0', label='Precisão')\n",
    "plt.plot(range(5), [0, 0, 0.5, 0.5, 1], 'o-', color='C1', label='Revocação')\n",
    "plt.title(\"Curva de Precisão e Revocação por Ranking\")\n",
    "plt.xticks(range(5))\n",
    "plt.legend()\n",
    "plt.show()"
   ]
  }
 ],
 "metadata": {
  "kernelspec": {
   "display_name": "Python 3",
   "language": "python",
   "name": "python3"
  },
  "language_info": {
   "codemirror_mode": {
    "name": "ipython",
    "version": 3
   },
   "file_extension": ".py",
   "mimetype": "text/x-python",
   "name": "python",
   "nbconvert_exporter": "python",
   "pygments_lexer": "ipython3",
   "version": "3.8.5"
  }
 },
 "nbformat": 4,
 "nbformat_minor": 4
}
