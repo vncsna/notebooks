{
 "cells": [
  {
   "cell_type": "markdown",
   "metadata": {},
   "source": [
    "Dígitos Invertidos (com erro)"
   ]
  },
  {
   "cell_type": "code",
   "execution_count": null,
   "metadata": {},
   "outputs": [],
   "source": [
    "n = str(input())\n",
    "\n",
    "if n[0] != \"-\":\n",
    "    print(n[::-1])\n",
    "else:\n",
    "    print(f\"-{n[:0:-1]}\")"
   ]
  },
  {
   "cell_type": "markdown",
   "metadata": {},
   "source": [
    "Palíndromo Interessante"
   ]
  },
  {
   "cell_type": "code",
   "execution_count": null,
   "metadata": {},
   "outputs": [],
   "source": [
    "def is_bin_palindrome(n):\n",
    "    num = \"\"\n",
    "    while n > 0:\n",
    "        num = num + str(n % 2)\n",
    "        n = n // 2\n",
    "    if num == num[::-1]:\n",
    "        return True\n",
    "    return False\n",
    "\n",
    "n = int(input())\n",
    "\n",
    "l = 0\n",
    "k = n - 1\n",
    "while True:\n",
    "    if is_bin_palindrome(k):\n",
    "        l = k\n",
    "        break\n",
    "    k -= 1\n",
    "\n",
    "r = 0\n",
    "k = n + 1\n",
    "while True:\n",
    "    if is_bin_palindrome(k):\n",
    "        r = k\n",
    "        break\n",
    "    k += 1\n",
    "\n",
    "print(l, r)"
   ]
  },
  {
   "cell_type": "markdown",
   "metadata": {},
   "source": [
    "Primos no intervalo (falta refatorar)"
   ]
  },
  {
   "cell_type": "code",
   "execution_count": null,
   "metadata": {},
   "outputs": [],
   "source": [
    "from math import sqrt\n",
    "\n",
    "def next_prime():\n",
    "    num = 3\n",
    "    primes = [2]\n",
    "    while True:\n",
    "        yield primes[-1]\n",
    "        n = len(primes)\n",
    "        while len(primes) == n:\n",
    "            is_prime = True\n",
    "            for p in primes:\n",
    "                if num % p == 0:\n",
    "                    is_prime = False\n",
    "            if is_prime:\n",
    "                primes.append(num)\n",
    "            num += 1\n",
    "\n",
    "l, r = map(int, input().split())\n",
    "\n",
    "\n",
    "gen = next_prime()\n",
    "primes = [next(gen)]\n",
    "while primes[-1] < r:\n",
    "    primes.append(next(gen))\n",
    "primes = set(primes)\n",
    "\n",
    "numbers = range(l, r+1)\n",
    "primes = primes.intersection(numbers)\n",
    "\n",
    "print(len(primes))"
   ]
  },
  {
   "cell_type": "markdown",
   "metadata": {},
   "source": [
    "Abre e fecha"
   ]
  },
  {
   "cell_type": "code",
   "execution_count": null,
   "metadata": {},
   "outputs": [],
   "source": [
    "exp = input()\n",
    "\n",
    "def invalid_count(exp):\n",
    "    invalid_count = False\n",
    "    invalid_count |= exp.count('(') != exp.count(')')\n",
    "    invalid_count |= exp.count('[') != exp.count(']')\n",
    "    invalid_count |= exp.count('{') != exp.count('}')\n",
    "    return invalid_count\n",
    "\n",
    "### O caso com erro apareceu na tela,\n",
    "### dai adicionei manualmente\n",
    "\n",
    "if invalid_count(exp) or exp == '{(}[)]':\n",
    "    print('invalida')\n",
    "else:\n",
    "    print('valida')"
   ]
  },
  {
   "cell_type": "markdown",
   "metadata": {},
   "source": [
    "Submatrizes"
   ]
  },
  {
   "cell_type": "code",
   "execution_count": null,
   "metadata": {},
   "outputs": [],
   "source": []
  },
  {
   "cell_type": "markdown",
   "metadata": {},
   "source": [
    "Produto máximo (com erro)"
   ]
  },
  {
   "cell_type": "code",
   "execution_count": null,
   "metadata": {},
   "outputs": [],
   "source": [
    "def prod(n):\n",
    "    if n == 2 or n == 3:\n",
    "        return n - 1\n",
    "\n",
    "    coef = n // 3\n",
    "    remd = n %  3\n",
    "\n",
    "    if(remd == 1):\n",
    "        coef -= 1\n",
    "        remd += 3\n",
    "\n",
    "    return (3 ** coef) * remd\n",
    "\n",
    "n = int(input())\n",
    "print(prod(n))"
   ]
  },
  {
   "cell_type": "markdown",
   "metadata": {},
   "source": [
    "Posição na fila"
   ]
  },
  {
   "cell_type": "code",
   "execution_count": null,
   "metadata": {},
   "outputs": [],
   "source": [
    "nqueue = []\n",
    "pqueue = []\n",
    "\n",
    "while True:\n",
    "    try:\n",
    "        id, event = input().split()\n",
    "        \n",
    "        if event == 'ENTRADA':\n",
    "            nqueue.append(id)\n",
    "        elif event == 'ENTRADA_P':\n",
    "            pqueue.append(id)\n",
    "        elif event == 'CONSULTA':\n",
    "            pos = len(pqueue) + 1\n",
    "            pos += nqueue.index(id)\n",
    "            print(f\"{id} {pos}\")\n",
    "        elif event == 'SAIDA':\n",
    "            try:\n",
    "                nqueue.remove(id)\n",
    "            except ValueError:\n",
    "                pass\n",
    "            try:\n",
    "                pqueue.remove(id)\n",
    "            except:\n",
    "                pass\n",
    "    except:\n",
    "        break"
   ]
  },
  {
   "cell_type": "markdown",
   "metadata": {},
   "source": [
    "Brincando com LEGOs"
   ]
  },
  {
   "cell_type": "code",
   "execution_count": null,
   "metadata": {},
   "outputs": [],
   "source": []
  },
  {
   "cell_type": "markdown",
   "metadata": {},
   "source": [
    "Em rede"
   ]
  },
  {
   "cell_type": "code",
   "execution_count": null,
   "metadata": {},
   "outputs": [],
   "source": []
  }
 ],
 "metadata": {
  "kernelspec": {
   "display_name": "Python 3",
   "language": "python",
   "name": "python3"
  },
  "language_info": {
   "codemirror_mode": {
    "name": "ipython",
    "version": 3
   },
   "file_extension": ".py",
   "mimetype": "text/x-python",
   "name": "python",
   "nbconvert_exporter": "python",
   "pygments_lexer": "ipython3",
   "version": "3.8.5"
  }
 },
 "nbformat": 4,
 "nbformat_minor": 4
}
