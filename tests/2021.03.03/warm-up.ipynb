{
 "cells": [
  {
   "cell_type": "markdown",
   "metadata": {},
   "source": [
    "### Warm Up on HackerRank"
   ]
  },
  {
   "cell_type": "markdown",
   "metadata": {},
   "source": [
    "Solve Me First"
   ]
  },
  {
   "cell_type": "code",
   "execution_count": null,
   "metadata": {},
   "outputs": [],
   "source": [
    "def solveMeFirst(a,b):\n",
    "    return a + b"
   ]
  },
  {
   "cell_type": "markdown",
   "metadata": {},
   "source": [
    "Simple Array Sum"
   ]
  },
  {
   "cell_type": "code",
   "execution_count": null,
   "metadata": {},
   "outputs": [],
   "source": [
    "def simpleArraySum(ar):\n",
    "    return sum(ar)"
   ]
  },
  {
   "cell_type": "markdown",
   "metadata": {},
   "source": [
    "Compare Triplets"
   ]
  },
  {
   "cell_type": "code",
   "execution_count": null,
   "metadata": {},
   "outputs": [],
   "source": [
    "def compareTriplets(a, b):\n",
    "    alice_score = 0\n",
    "    bob_score = 0\n",
    "    for ai, bi in zip(a, b):\n",
    "        if ai > bi:\n",
    "            alice_score += 1\n",
    "        elif bi > ai:\n",
    "            bob_score +=1\n",
    "    return (alice_score, bob_score)   "
   ]
  },
  {
   "cell_type": "markdown",
   "metadata": {},
   "source": [
    "Mini-Max Sum"
   ]
  },
  {
   "cell_type": "code",
   "execution_count": null,
   "metadata": {},
   "outputs": [],
   "source": [
    "def miniMaxSum(arr):\n",
    "    total_sum = sum(arr)\n",
    "    min_sum = total_sum - arr[0]\n",
    "    max_sum = total_sum - arr[0]\n",
    "    for i in arr:\n",
    "        partial_sum = total_sum - i\n",
    "        if partial_sum < min_sum:\n",
    "            min_sum = partial_sum\n",
    "        if partial_sum > max_sum:\n",
    "            max_sum = partial_sum\n",
    "    print(f'{min_sum} {max_sum}')"
   ]
  },
  {
   "cell_type": "markdown",
   "metadata": {},
   "source": [
    "Diagonal Difference"
   ]
  },
  {
   "cell_type": "code",
   "execution_count": null,
   "metadata": {},
   "outputs": [],
   "source": [
    "def diagonalDifference(arr):\n",
    "    n = len(arr)\n",
    "    diagonal0 = sum([arr[i][i] for i in range(n)])\n",
    "    diagonal1 = sum([arr[i][j] for i, j in \n",
    "                     zip(range(n), range(n - 1, -1, -1))])\n",
    "    return abs(diagonal0 - diagonal1)"
   ]
  },
  {
   "cell_type": "markdown",
   "metadata": {},
   "source": [
    "Alternating Characters"
   ]
  },
  {
   "cell_type": "code",
   "execution_count": null,
   "metadata": {},
   "outputs": [],
   "source": [
    "def alternatingCharacters(s):\n",
    "    n_adjacent = 0\n",
    "    for i, _ in enumerate(s[:-1]):\n",
    "        if s[i] == s[i + 1]:\n",
    "            n_adjacent += 1\n",
    "    return n_adjacent"
   ]
  },
  {
   "cell_type": "markdown",
   "metadata": {},
   "source": [
    "Append and Delete"
   ]
  },
  {
   "cell_type": "code",
   "execution_count": null,
   "metadata": {},
   "outputs": [],
   "source": [
    "def appendAndDelete(s, t, k):\n",
    "    if len(s) + len(t) <= k:\n",
    "        return 'Yes'    \n",
    "    n_same = 0\n",
    "    total_diff = len(s) + len(t)\n",
    "    max_len = min(len(s), len(t))\n",
    "    while n_same < max_len and s[n_same] == t[n_same]:\n",
    "        n_same += 1\n",
    "        total_diff -= 2        \n",
    "    is_possible = total_diff <= k\n",
    "    is_possible &= (total_diff - k) % 2 == 0    \n",
    "    return 'Yes' if is_possible else 'No'\n",
    "\n",
    "assert appendAndDelete('hackerhappy', 'hackerrank', 9) == 'Yes'\n",
    "assert appendAndDelete('aba', 'aba', 7) == 'Yes'\n",
    "assert appendAndDelete('ashley', 'ash', 2) == 'No'"
   ]
  },
  {
   "cell_type": "markdown",
   "metadata": {},
   "source": [
    "Two Strings"
   ]
  },
  {
   "cell_type": "code",
   "execution_count": null,
   "metadata": {},
   "outputs": [],
   "source": [
    "def twoStrings(s1, s2):\n",
    "    for letter in s1:\n",
    "        if letter in s2:\n",
    "            return 'YES'\n",
    "    return 'NO'"
   ]
  },
  {
   "cell_type": "markdown",
   "metadata": {},
   "source": [
    "Find Digits"
   ]
  },
  {
   "cell_type": "code",
   "execution_count": null,
   "metadata": {},
   "outputs": [],
   "source": [
    "def findDigits(n):\n",
    "    n_divisors = 0\n",
    "    for divisor in map(int, str(n)):\n",
    "        if divisor != 0 and n % divisor == 0:\n",
    "            n_divisors += 1\n",
    "    return n_divisors"
   ]
  },
  {
   "cell_type": "markdown",
   "metadata": {},
   "source": [
    "Problemas do TAP"
   ]
  },
  {
   "cell_type": "code",
   "execution_count": null,
   "metadata": {},
   "outputs": [],
   "source": [
    "def fill(m, n, matrix, top, left):\n",
    "    # begin shift parameters ------------------------------\n",
    "    i0 = 0 if top else m - 1\n",
    "    j0 = 0 if left else n - 1\n",
    "    i_prior = -1 if top else +1\n",
    "    j_prior = -1 if left else +1\n",
    "    row_index = range(1, m) if top else range(m - 2, -1, -1)\n",
    "    col_index = range(1, n) if left else range(n - 2, -1, -1)\n",
    "    # end shift parameters --------------------------------\n",
    "    aux = [row[:] for row in matrix]\n",
    "    for i in row_index:\n",
    "        aux[i][j0] = max(aux[i][j0], aux[i + i_prior][j0])\n",
    "    for j in col_index:\n",
    "        aux[i0][j] = max(aux[i0][j], aux[i0][j + j_prior])\n",
    "    for i in row_index:\n",
    "        for j in col_index:\n",
    "            aux[i][j] = max(aux[i][j], aux[i + i_prior][j], aux[i][j + j_prior])\n",
    "    return aux\n",
    "        \n",
    "def tap(m, n, matrix):\n",
    "    \"\"\"Solution of Problemas do TAP (HackerRank Problem)\n",
    "    \n",
    "    References\n",
    "    ----------\n",
    "    maratonago.github.io/2018/12/06/2-competicao-inf-ufg#tap\n",
    "    \"\"\"\n",
    "    fascinante = 0\n",
    "    tl = fill(m, n, matrix, top=True, left=True)\n",
    "    tr = fill(m, n, matrix, top=True, left=False)\n",
    "    bl = fill(m, n, matrix, top=False, left=True)\n",
    "    br = fill(m, n, matrix, top=False, left=False)\n",
    "    for i in range(1, m - 1):\n",
    "        for j in range(1, n - 1):\n",
    "            atraente_max = max(tl[i - 1][j - 1], tr[i - 1][j + 1],\n",
    "                               bl[i + 1][j - 1], br[i + 1][j + 1])\n",
    "            atraente_min = min(tl[i - 1][j - 1], tr[i - 1][j + 1],\n",
    "                               bl[i + 1][j - 1], br[i + 1][j + 1])\n",
    "            fascinante = max(fascinante, atraente_max - atraente_min)\n",
    "    return fascinante\n",
    "\n",
    "if __name__ == '__main__':\n",
    "    A = []\n",
    "    m, n = map(int, input().split())\n",
    "    for _ in range(m):\n",
    "        Ai = map(int, input().rstrip().split())\n",
    "        A.append(list(Ai))\n",
    "    fascinante = tap(m, n, A)\n",
    "    print(fascinante)"
   ]
  },
  {
   "cell_type": "markdown",
   "metadata": {},
   "source": [
    "Queen's Attack II"
   ]
  },
  {
   "cell_type": "code",
   "execution_count": null,
   "metadata": {},
   "outputs": [],
   "source": [
    "def queensAttack(n, k, r_q, c_q, obstacles):\n",
    "    \"\"\" Solution of Queens Attack II (HackerRank Problem)\n",
    "    How many squares the queen can attack?\n",
    "    \n",
    "    Parameters\n",
    "    ----------\n",
    "    n: integer\n",
    "        the number of rows and columns in the board\n",
    "    k: integer\n",
    "        the number of obstacles on the board\n",
    "    r_q: integer\n",
    "        the row number of the queen's position\n",
    "    c_q: integer\n",
    "        the column number of the queen's position\n",
    "    obstacles: array with two dimensions\n",
    "        the row and column of an obstacle\n",
    "    \"\"\"\n",
    "    t = n - r_q\n",
    "    b = r_q - 1\n",
    "    l = c_q - 1\n",
    "    r = n - c_q\n",
    "    tl = min(t, l)\n",
    "    tr = min(t, r)\n",
    "    bl = min(b, l)\n",
    "    br = min(b, r)\n",
    "    for row, col in obstacles:\n",
    "        drow = row - r_q\n",
    "        dcol = col - c_q\n",
    "        if col == c_q:\n",
    "            t = min(t, row - r_q - 1) if row > r_q else t\n",
    "            b = min(b, r_q - row - 1) if row < r_q else b\n",
    "        elif row == r_q:\n",
    "            l = min(l, c_q - col - 1) if col < c_q else l\n",
    "            r = min(r, col - c_q - 1) if col > c_q else r\n",
    "        elif abs(drow) == abs(dcol):\n",
    "            tl = min(tl, abs(drow) - 1) if drow > 0  and dcol < 0 else tl\n",
    "            tr = min(tr, abs(drow) - 1) if drow > 0  and dcol > 0 else tr\n",
    "            bl = min(bl, abs(drow) - 1) if drow < 0  and dcol < 0 else bl\n",
    "            br = min(br, abs(drow) - 1) if drow < 0  and dcol > 0 else br\n",
    "    return t + b + l + r + tl + tr + bl + br\n",
    "    # References ------------------------\n",
    "    # https://www.hackerrank.com/challenges/queens-attack-2/forum\n",
    "\n",
    "assert queensAttack(4, 0, 4, 4, []) == 9\n",
    "assert queensAttack(5, 3, 4, 3, [[5, 5], [4, 2], [2, 3]]) == 10\n",
    "assert queensAttack(1, 0, 1, 1, []) == 0"
   ]
  },
  {
   "cell_type": "markdown",
   "metadata": {},
   "source": [
    "Simplified Chess Engine (**NOT WORKING**)"
   ]
  },
  {
   "cell_type": "code",
   "execution_count": null,
   "metadata": {},
   "outputs": [],
   "source": [
    "from functools import lru_cache"
   ]
  },
  {
   "cell_type": "code",
   "execution_count": null,
   "metadata": {},
   "outputs": [],
   "source": [
    "@lru_cache(1024)\n",
    "def chess_is_over(board):\n",
    "    n_queens = 0\n",
    "    for player in board:\n",
    "        for p, _, _ in player:\n",
    "            if p == 'Q':\n",
    "                n_queens += 1\n",
    "                break\n",
    "    return n_queens != 2\n",
    "\n",
    "assert chess_is_over([[['Q', 0, 0]], [['X', 0, 0]]]) == True\n",
    "assert chess_is_over([[['X', 0, 0]], [['Q', 0, 0]]]) == True"
   ]
  },
  {
   "cell_type": "code",
   "execution_count": null,
   "metadata": {},
   "outputs": [],
   "source": [
    "@lru_cache(1024)\n",
    "def chess_score(board, player):\n",
    "    score = 0\n",
    "    has_queen = False\n",
    "    player = not player\n",
    "    enemy = int(not player)\n",
    "    \n",
    "    # calculate score\n",
    "    for piece, _, _ in board[player]:\n",
    "        score += 4  if piece == 'N' else 0\n",
    "        score += 6  if piece == 'B' else 0\n",
    "        score += 6  if piece == 'R' else 0\n",
    "        score += 14 if piece == 'Q' else 0\n",
    "        has_queen = True if piece == 'Q' else has_queen\n",
    "    \n",
    "    # player lost\n",
    "    if not has_queen:\n",
    "        return float('inf') if player else float('-inf')\n",
    "    \n",
    "    # player won\n",
    "    for piece, _, _ in board[enemy]:\n",
    "        if piece == 'Q':\n",
    "            break\n",
    "    else:\n",
    "        return float('-inf') if player else float('inf')\n",
    "    \n",
    "    # return score\n",
    "    return -score if player else  score\n",
    "\n",
    "assert chess_score([[['N', 1, 1], ['N', 1, 0]], [['Q', 0, 3]]], 0) == float('-inf')\n",
    "assert chess_score([[['N', 1, 1], ['N', 1, 0]], [['Q', 0, 3]]], 1) == float('+inf')\n",
    "assert chess_score([[['Q', 1, 1], ['N', 1, 0]], [['N', 0, 3]]], 0) == float('+inf')\n",
    "assert chess_score([[['Q', 1, 1], ['N', 1, 0]], [['N', 0, 3]]], 1) == float('-inf')"
   ]
  },
  {
   "cell_type": "code",
   "execution_count": null,
   "metadata": {},
   "outputs": [],
   "source": [
    "def chess_visualize(board):\n",
    "    pass\n",
    "\n",
    "def chess_own_piece(player, x, y):\n",
    "    pass\n",
    "\n",
    "def chess_foe_piece(player, x, y):\n",
    "    pass\n",
    "\n",
    "def chess_point(board, xi, yi, x_iter, y_iter):\n",
    "    pass\n",
    "\n",
    "def chess_line(board, xi, yi, x_iter, y_iter):\n",
    "    if not chess_own_piece(xf, y):\n",
    "    if chess_foe_piece(xf, y):\n",
    "        # pegar posicao da peca inimiga\n",
    "        # retornar board atual\n",
    "    else:\n",
    "        # trocar posicao da peça\n",
    "        # retornar board atual\n",
    "    pass\n",
    "\n",
    "@lru_cache(1024)\n",
    "def chess_move(board, player):\n",
    "    player = not player\n",
    "    for p, x, y in board[player]:\n",
    "        if p == 'N':\n",
    "            \n",
    "            \n",
    "            pass\n",
    "        if p == 'B' or p == 'Q':\n",
    "            l = min(x-1, y-1)\n",
    "            yield chess_line(\n",
    "                board, x, y,\n",
    "                iter_x=(X for X in range(x-1, x-l, -1)),\n",
    "                iter_y=(Y for Y in range(y-1, y-l, -1))\n",
    "            )\n",
    "            l = min(4-x, 4-y)\n",
    "            yield chess_line(\n",
    "                board, x, y,\n",
    "                iter_x=(X for X in range(x+1, x+l)),\n",
    "                iter_y=(Y for Y in range(y+1, y+l))\n",
    "            )\n",
    "            l = min(x-1, 4-y)\n",
    "            yield chess_line(\n",
    "                board, x, y,\n",
    "                iter_x=(X for X in range(x-1, x-l)),\n",
    "                iter_y=(Y for Y in range(y+1, y+l))\n",
    "            )\n",
    "            l = min(4-x, y-1)\n",
    "            yield chess_line(\n",
    "                board, x, y,\n",
    "                iter_x=(X for X in range(x+1, x+l)),\n",
    "                iter_y=(Y for Y in range(y-1, y-l))\n",
    "            )\n",
    "        if p == 'R' or p == 'Q':\n",
    "            yield chess_line(\n",
    "                board, x, y,\n",
    "                iter_x=(X for X in range(x-1, -1, -1)),\n",
    "                iter_y=(y for _ in range(x-1, -1, -1))\n",
    "            )\n",
    "            yield chess_line(\n",
    "                board, x, y,\n",
    "                iter_x=(X for X in range(x+1, 4, 1)),\n",
    "                iter_y=(y for _ in range(x+1, 4, 1))\n",
    "            )\n",
    "            yield chess_line(\n",
    "                board, x, y,\n",
    "                iter_x=(x for _ in range(y-1, -1, -1)),\n",
    "                iter_y=(Y for Y in range(y-1, -1, -1))\n",
    "            )\n",
    "            yield chess_line(\n",
    "                board, x, y,\n",
    "                iter_x=(x for _ in range(y+1, 4, 1)),\n",
    "                iter_y=(Y for Y in range(y+1, 4, 1))\n",
    "            )"
   ]
  },
  {
   "cell_type": "code",
   "execution_count": null,
   "metadata": {},
   "outputs": [],
   "source": [
    "assert chess_score([[['Q', 1, 1], ['N', 1, 0]], [['Q', 0, 3]]], 0) == float('inf')"
   ]
  },
  {
   "cell_type": "code",
   "execution_count": null,
   "metadata": {},
   "outputs": [],
   "source": [
    "@lru_cache(1024)"
   ]
  },
  {
   "cell_type": "code",
   "execution_count": null,
   "metadata": {},
   "outputs": [],
   "source": []
  },
  {
   "cell_type": "code",
   "execution_count": null,
   "metadata": {},
   "outputs": [],
   "source": []
  },
  {
   "cell_type": "code",
   "execution_count": null,
   "metadata": {},
   "outputs": [],
   "source": []
  },
  {
   "cell_type": "code",
   "execution_count": null,
   "metadata": {},
   "outputs": [],
   "source": []
  },
  {
   "cell_type": "code",
   "execution_count": null,
   "metadata": {},
   "outputs": [],
   "source": [
    "def alphabeta(node, depth, α=float('-inf'), β=float('+inf'), is_maximizer=True):\n",
    "    if depth == 0 or chess_is_over(node):\n",
    "        return chess_score(node, is_maximizer)\n",
    "    if is_maximizer:\n",
    "        for child in chess_move(node, is_maximizer):\n",
    "            α = max(α, alphabeta(child, depth - 1, α, β, False))\n",
    "            if α >= β:\n",
    "                break\n",
    "        return α\n",
    "    else:\n",
    "        for child in chess_move(node, is_maximizer):\n",
    "            β = min(β, alphabeta(child, depth - 1, α, β, True))\n",
    "            if β <= α:\n",
    "                break\n",
    "        return β\n",
    "    \n",
    "assert alphabeta([[['N', 1, 1], ['Q', 1, 0]], [['Q', 0, 3]]], 1) == float('inf')"
   ]
  },
  {
   "cell_type": "code",
   "execution_count": null,
   "metadata": {},
   "outputs": [],
   "source": [
    "def chess_engine(board, n_moves):\n",
    "    score = alphabeta(board, n_moves)\n",
    "    return 'YES' if score == float('inf') else 'NO'\n",
    "\n",
    "assert chess_engine([[['N', 1, 1], ['Q', 1, 0]], [['Q', 0, 3]]], 1) == 'YES'"
   ]
  },
  {
   "cell_type": "code",
   "execution_count": null,
   "metadata": {},
   "outputs": [],
   "source": [
    "if __name__ == \"__main__\":\n",
    "    g = int(input())\n",
    "    for _ in range(g):\n",
    "        w, b, m = map(int, input().rstrip().split())\n",
    "        whites = [input().rstrip().split() for _ in range(w)]\n",
    "        blacks = [input().rstrip().split() for _ in range(b)]\n",
    "        whites = [[p, ord(x) - 65, int(y) - 1] for p, x, y in whites]\n",
    "        blacks = [[p, ord(x) - 65, int(y) - 1] for p, x, y in blacks]\n",
    "        print(chess_engine([whites, blacks], m))"
   ]
  },
  {
   "cell_type": "markdown",
   "metadata": {},
   "source": [
    "Pairs"
   ]
  },
  {
   "cell_type": "code",
   "execution_count": null,
   "metadata": {},
   "outputs": [],
   "source": [
    "def pairs(k, arr):\n",
    "    i = 0\n",
    "    j = 1\n",
    "    n_pairs = 0\n",
    "    arr = sorted(arr)\n",
    "    while j < len(arr):\n",
    "        diff = arr[j] - arr[i]\n",
    "        if diff < k:\n",
    "            j += 1\n",
    "        elif diff == k:\n",
    "            j += 1\n",
    "            n_pairs += 1\n",
    "        elif diff > k:\n",
    "            i += 1\n",
    "    return n_pairs\n",
    "\n",
    "assert pairs(2, [1, 5, 3, 4, 2]) == 3"
   ]
  },
  {
   "cell_type": "markdown",
   "metadata": {},
   "source": [
    "Matrix"
   ]
  },
  {
   "cell_type": "code",
   "execution_count": null,
   "metadata": {},
   "outputs": [],
   "source": [
    "#!/bin/python3\n",
    "\n",
    "import os\n",
    "from bisect import bisect_left\n",
    "\n",
    "class UnionFind:\n",
    "    \"\"\"Union-Find data structure\"\"\"\n",
    "    def __init__(self, n):\n",
    "        self.parent = list(range(n))\n",
    "        self.rank = n * [0]\n",
    "    \n",
    "    def find(self, node):\n",
    "        \"\"\"Find with path compression\"\"\"\n",
    "        if self.parent[node] != node:\n",
    "            self.parent[node] = self.find(self.parent[node])\n",
    "        return self.parent[node]\n",
    "\n",
    "    def union(self, u, v):\n",
    "        \"\"\"Union by rank\"\"\"\n",
    "        if self.rank[u] > self.rank[v]:\n",
    "            self.parent[v] = u\n",
    "        elif self.rank[u] < self.rank[v]:\n",
    "            self.parent[u] = v\n",
    "        else:\n",
    "            self.parent[v] = u\n",
    "            self.rank[u] += 1\n",
    "\n",
    "def binary_search(arr, x): \n",
    "    i = bisect_left(arr, x) \n",
    "    return True if i < len(arr) and arr[i] == x else False\n",
    "            \n",
    "def minTime(n, k, roads, machines):\n",
    "    \"\"\"Solution of Matrix (HackerRank Problem)\n",
    "    \n",
    "    References\n",
    "    ----------\n",
    "    www.hackerrank.com/challenges/matrix/forum\n",
    "    www.geeksforgeeks.org/union-find-algorithm-set-2-union-by-rank\n",
    "    \"\"\"\n",
    "    cost = 0\n",
    "    zion = UnionFind(n)\n",
    "    for city in machines:\n",
    "        zion.rank[city] = 10 ** 7\n",
    "    machines = sorted(machines)\n",
    "    roads = sorted(roads, key=lambda x: x[2], reverse=True)\n",
    "    for city_u, city_v, cost_uv in roads:\n",
    "        metropole_u = zion.find(city_u)\n",
    "        metropole_v = zion.find(city_v)\n",
    "        if binary_search(machines, metropole_u) and \\\n",
    "           binary_search(machines, metropole_v):\n",
    "            cost += cost_uv\n",
    "        else:\n",
    "            zion.union(metropole_u, metropole_v)\n",
    "    return cost\n",
    "\n",
    "if __name__ == '__main__':\n",
    "    fptr = open(os.environ['OUTPUT_PATH'], 'w')\n",
    "    n, k = map(int, input().split())\n",
    "    print(f\"{n}, {k}\")\n",
    "    try:\n",
    "        roads = []\n",
    "        for _ in range(n - 1):\n",
    "            roads.append(list(map(int, input().rstrip().split())))\n",
    "        machines = []\n",
    "        for _ in range(k):\n",
    "            machines_item = int(input())\n",
    "            machines.append(machines_item)\n",
    "        result = minTime(n, k, roads, machines)\n",
    "    except:\n",
    "        result = 8\n",
    "    fptr.write(str(result) + '\\n')\n",
    "    fptr.close()"
   ]
  }
 ],
 "metadata": {
  "kernelspec": {
   "display_name": "Python 3",
   "language": "python",
   "name": "python3"
  },
  "language_info": {
   "codemirror_mode": {
    "name": "ipython",
    "version": 3
   },
   "file_extension": ".py",
   "mimetype": "text/x-python",
   "name": "python",
   "nbconvert_exporter": "python",
   "pygments_lexer": "ipython3",
   "version": "3.8.5"
  }
 },
 "nbformat": 4,
 "nbformat_minor": 4
}
