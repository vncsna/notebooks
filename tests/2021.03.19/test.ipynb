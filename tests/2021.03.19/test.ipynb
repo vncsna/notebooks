{
 "cells": [
  {
   "cell_type": "markdown",
   "metadata": {},
   "source": [
    "#### 2021.03.17"
   ]
  },
  {
   "cell_type": "markdown",
   "metadata": {},
   "source": [
    "1) Como se chama o fenômeno no qual a variabilidade de uma variável preditora (x) é estável ao longo dos valores de uma variável predita (y)? **Imagino que seja homocedasticidade, vale estudar a seção \"Diagnóstico de Homocedasticidade\" no [Portal Action](http://www.portalaction.com.br/analise-de-regressao/32-diagnostico-de-homocedasticidade#:~:text=Homocedasticidade%20%C3%A9%20o%20termo%20para,%CE%B5i%20para%20observa%C3%A7%C3%B5es%20distintas.).**\n",
    "\n",
    "2) Um teste de covid tem probabilidade 5% de falso positivo e de 20% de falso negativo. Numa cidade onde 10% da população tem covid, qual a chance do paciente, selecionado aleatoriamente, ter covid dado que testou positivo para covid?\n",
    "\n",
    "3) Modelos de crédito geralmente são desenvolvidos usando informações de clientes com linhas de crédito aprovadas anteriormente e que se mostraram bons ou maus pagadores. Mas o mercado potencial envolve clientes conhecidos e não conhecidos, de tal maneira que uma amostra onde estão incluídos apenas clientes conhecidos é uma amostra enviesada pelos critérios de aprovação da instituição e não representam o mercado potencial. Qual o nome da técnica usualmente para lidar com este tipo de problema?"
   ]
  },
  {
   "cell_type": "markdown",
   "metadata": {},
   "source": [
    "#### 2021.03.19"
   ]
  },
  {
   "cell_type": "markdown",
   "metadata": {},
   "source": [
    "2) How many 3-digit numbers can be formed from the digits 2, 3, 5, 6, 7 and 9, which are divisible by 5 and none of the digits is repeated? **20**\n",
    "\n",
    "3) The time required to search an element in a linked list of length n is **O(n)**\n",
    "\n",
    "4) Which of these statistics are particularly sensitive to outliers? **Mean, Min, Max and Standard Deviation.**\n",
    "\n",
    "5) There are N biliard balls in a basket. The biliard balls are numbered from 1 to N. Four balls are randomly selected, numbered 3, 4, 6, and 11. What is the maximum likelihood estimate (MLE) for N?\n",
    "\n",
    "6) An exam is performed to detect a rare disease, present in 0.1% of the population. Among patients who have the disease, 80% of the time the exam result is positive. When doctors prescribe the exam, 50% of the results come positive. When performed in random subjects, 0.8% of them test positive. The chance that one of those \"positives\" actually has the disease is ____.\n",
    "\n",
    "7) There is a box with 2 identical red balls, 2 identical black balls, and 4 identical blue balls. Someone will sequentially remove 3 balls from the box. We define as a different sequence of removal the sequence of colours of the balls removed. E.g.: [red, black, red] is one sequence. Considering only the sequences in which at least one of the balls was black, there are ____ different possible sequences of removing the 3 balls"
   ]
  },
  {
   "cell_type": "markdown",
   "metadata": {},
   "source": [
    "8) Covid and Vitamin D\n",
    "\n",
    "Analysing lab tests during the Coronavirus pandemic, one of our analysts got the following results for patients which tested for Sars-Cov 2 (PCR) and who also tested vitamin D levels within the last 6 months:\n",
    "\n",
    "- Low vitamin-D and PCR positive / PCR positivity rate: 3000 / 30%\n",
    "- Low vitamin D and PCR negative / PCR positivity rate: 7000 / 70%\n",
    "- Normal vitamin-D and PCR positive / PCR positivity rate: 6000 / 20%\n",
    "- Normal vitamin D and PCR negative / PCR positivity rate: 24000/ 80%\n",
    "\n",
    "The analyst thinks those results might indicate that vitamin D supplementation can help to prevent Covid-19 development\n",
    "\n",
    "When presenting his hypothesis, an experienced doctor argued that the analyst had found an indirect association. According to this doctor, vitamin D as measured in lab tests is normally lower in people from certain mainly from Africa and Asia, because those people's bodies are physiologically more efficient at using vitamin D.\n",
    "\n",
    "Consider the statements:\n",
    "\n",
    "A) Vitamin D levels cannot be accurately assessed from blood samples, as sunlight causes the production of vitamin D directly on tissues were it can be consumed\n",
    "\n",
    "B) The prevalence of Covid-19 (i.e. the proportion of the population that has developed the disease) is associated with sociodemographic variables like neighborhood and income level, which are, in turn, associated with an ethnic group\n",
    "\n",
    "C) People infected by Sars-Cov-2 who develop symptoms are more likely to be tested for Covid-19.\n",
    "\n",
    "Which of the above statements, if true, can support the doctor's claim that the link between vitamin D levels and Covid-19 infection might be indirect.\n",
    "\n",
    "**A & B**"
   ]
  },
  {
   "cell_type": "markdown",
   "metadata": {},
   "source": [
    "9) Cancer detection model\n",
    "\n",
    "You have received a representative dataset of patients who tested for cancer with correlate features. You have developed a model to predict cancer using those features, achieving 95% accuracy\n",
    "\n",
    "The dataset has 30 correlate features and 3000 patients who got tested for cancer There were 120 patients who tested positive for cancer\n",
    "\n",
    "Considering a baseline model that would predict \"not cancer\" for all patients, it is true that\n",
    "\n",
    "Pick ONE OR MORE options\n",
    "\n",
    "- Your model is useless. The baseline model, despite being completely naive, has better accuracy\n",
    "\n",
    "- **While the baseline model is not useful your model might be useful. For instance, if there are more true positives than false negatives, being classified as positive is a strong predictor of cancer, which can be used to prioritise patients who need testing**\n",
    "\n",
    "- Your model is likely useful. It can be used in an ensemble with the baseline model, with the combined model likely achieving accuracy superior to 96%.\n",
    "\n",
    "- **The accuracy of the baseline model indicates that your model can certainly be improved.**"
   ]
  },
  {
   "cell_type": "markdown",
   "metadata": {},
   "source": [
    "10) Moving to a new town\n",
    "\n",
    "Complete the blanks in the following question with the appropriate answer.\n",
    "\n",
    "You are about to decide on moving to a new town. Before making your decision, you want to know if the town is a safe place to circulate. Fortunately, you have two friends living there, so you decided to ask, each of them, whether the town is safe. Both have told you the town is safe,\n",
    "\n",
    "You know your friends well, and you know they are not serious. You know that whatever they tell you, there is a 4/7 chance each of them is saying the truth, and 3/7 of lying. The chances each of them will lie to you are independent, I.e., the chance both are lying simultaneously is 9/49, as is 16/49 the chance both are telling the truth.\n",
    "\n",
    "Given you have no prior expectation about the safety of the town, after talking to your friends your belief that the town is safe is"
   ]
  },
  {
   "cell_type": "markdown",
   "metadata": {},
   "source": [
    "11) Cartridge Recycling Complexity\n",
    "\n",
    "An office supply store has an ink cartridge recycling program. For every cartridge recycled, the customer has two options:\n",
    "\n",
    "- Option 1: Can simply earn certain number of dollars for each cartridge\n",
    "- Option 2: Can combine the cartridges with a certain number of dollars in order to purchase special products called perks items!\n",
    "\n",
    "A customer is currently enrolled in this program and would like to purchase the maximum number of perks iterns' Given a certain number of cartridges and dollars, and how many perks items can the customer buy?\n",
    "\n",
    "Example:\n",
    "\n",
    "- cartridges = 10\n",
    "- dollars = 10\n",
    "- recycleReward = 2, the amount earned by recycling a single cartridge\n",
    "- perksCost 2, the amount required for a customer to buy a single perks item combined with a recycled cartridge\n",
    "\n",
    "The best thing the customer can do is to first recycle 3 cartridges, earning 6 dollars. After this, 7 cartridges and 16 dollars are left The 7 cartridges can be combined with 14 dollars to purchase 7 perks items. This is the maximum number of perks items that can be bought\n",
    "\n",
    "About the complexity of this function, it is true that\n",
    "\n",
    "- The problem of calculating the maxPerksitems is an NP-Complete problem, thus exact solutions can only be assured by exhaustive search, which is usually unpractical\n",
    "- The optimisation involving finding the best of two quantities, therefore the best complexity is quadratic\n",
    "- The problem consists in finding which is the best feasible triple (cartridges, dollars, reclycledCartridges), which can be reduced to finding the best corresponding recycledCartridges, with linear complexity\n",
    "- **It is possible to find an analytical closed formula for maxPerksitems, and therefore the best complexity is constant**"
   ]
  }
 ],
 "metadata": {
  "kernelspec": {
   "display_name": "Python 3",
   "language": "python",
   "name": "python3"
  },
  "language_info": {
   "codemirror_mode": {
    "name": "ipython",
    "version": 3
   },
   "file_extension": ".py",
   "mimetype": "text/x-python",
   "name": "python",
   "nbconvert_exporter": "python",
   "pygments_lexer": "ipython3",
   "version": "3.8.5"
  }
 },
 "nbformat": 4,
 "nbformat_minor": 4
}
